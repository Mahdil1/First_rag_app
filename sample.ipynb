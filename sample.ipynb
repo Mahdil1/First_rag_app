{
 "cells": [
  {
   "metadata": {
    "ExecuteTime": {
     "end_time": "2025-03-13T18:08:33.958458Z",
     "start_time": "2025-03-13T18:08:33.952935Z"
    }
   },
   "cell_type": "code",
   "source": "#!pip install tiktoken",
   "id": "3ec03b94b8c317f0",
   "outputs": [],
   "execution_count": 4
  },
  {
   "metadata": {
    "ExecuteTime": {
     "end_time": "2025-03-13T18:08:34.107167Z",
     "start_time": "2025-03-13T18:08:34.102152Z"
    }
   },
   "cell_type": "code",
   "source": "#!pip install chromadb",
   "id": "776011c038825377",
   "outputs": [],
   "execution_count": 5
  },
  {
   "metadata": {
    "ExecuteTime": {
     "end_time": "2025-03-13T18:08:34.128588Z",
     "start_time": "2025-03-13T18:08:34.123180Z"
    }
   },
   "cell_type": "code",
   "source": "#!pip install langchain langchain_community langchain_ollama langchain_text_splitters",
   "id": "1564dca6cc28220b",
   "outputs": [],
   "execution_count": 6
  },
  {
   "metadata": {
    "ExecuteTime": {
     "end_time": "2025-03-13T18:08:34.173752Z",
     "start_time": "2025-03-13T18:08:34.167341Z"
    }
   },
   "cell_type": "code",
   "source": "#!pip install pymupdf",
   "id": "fa64204f3409560",
   "outputs": [],
   "execution_count": 7
  },
  {
   "metadata": {
    "ExecuteTime": {
     "end_time": "2025-03-13T18:08:34.199720Z",
     "start_time": "2025-03-13T18:08:34.191751Z"
    }
   },
   "cell_type": "code",
   "source": [
    "doc_path = \"./data/BOI.pdf\"\n",
    "model = \"llama3\""
   ],
   "id": "2ca2bbecc772fb22",
   "outputs": [],
   "execution_count": 8
  },
  {
   "metadata": {
    "ExecuteTime": {
     "end_time": "2025-03-13T18:08:34.234361Z",
     "start_time": "2025-03-13T18:08:34.226480Z"
    }
   },
   "cell_type": "code",
   "source": [
    "from langchain_ollama import OllamaEmbeddings\n",
    "from langchain_text_splitters import RecursiveCharacterTextSplitter\n",
    "from langchain_community.vectorstores import Chroma\n",
    "from langchain.schema import Document\n",
    "import fitz  # PyMuPDF"
   ],
   "id": "ceab6c004c212bd9",
   "outputs": [],
   "execution_count": 9
  },
  {
   "metadata": {},
   "cell_type": "markdown",
   "source": "### Extraction du PDF et conversion en documents langchain",
   "id": "d4378424b67a20ee"
  },
  {
   "metadata": {
    "ExecuteTime": {
     "end_time": "2025-03-13T18:08:34.521077Z",
     "start_time": "2025-03-13T18:08:34.311817Z"
    }
   },
   "cell_type": "code",
   "source": [
    "if doc_path:\n",
    "    try:\n",
    "        doc = fitz.open(doc_path)\n",
    "        print(\"PDF chargé avec succès.\")\n",
    "\n",
    "        if len(doc) > 0:\n",
    "            # Extraction du texte de toutes les pages\n",
    "            content = \"\\n\".join([page.get_text() for page in doc])\n",
    "            print(\"Aperçu du contenu (100 premiers caractères) :\")\n",
    "            print(content[:100])\n",
    "\n",
    "            # Vérifier et transformer en Document LangChain\n",
    "            if isinstance(content, str) and content.strip():\n",
    "                documents = [Document(page_content=content)]\n",
    "                print(\"Contenu converti en document LangChain.\")\n",
    "\n",
    "            else:\n",
    "                print(\"Le fichier PDF est vide ou ne contient pas de texte lisible.\")\n",
    "\n",
    "        else:\n",
    "            print(\"Le fichier PDF est vide.\")\n",
    "\n",
    "    except Exception as e:\n",
    "        print(f\"Erreur lors du chargement du PDF : {e}\")\n",
    "else:\n",
    "    print(\"Veuillez fournir un chemin de fichier PDF valide.\")"
   ],
   "id": "d21604e0f6fa66a1",
   "outputs": [
    {
     "name": "stdout",
     "output_type": "stream",
     "text": [
      "PDF chargé avec succès.\n",
      "Aperçu du contenu (100 premiers caractères) :\n",
      "Beneficial Ownership Information Report\n",
      "Filing Instructions\n",
      "Financial Crimes Enforcement Network\n",
      "U.S\n",
      "Contenu converti en document LangChain.\n"
     ]
    }
   ],
   "execution_count": 10
  },
  {
   "metadata": {},
   "cell_type": "markdown",
   "source": "### Découpage en chunks",
   "id": "9c0396bb4c680aef"
  },
  {
   "metadata": {
    "ExecuteTime": {
     "end_time": "2025-03-13T18:08:34.559469Z",
     "start_time": "2025-03-13T18:08:34.528704Z"
    }
   },
   "cell_type": "code",
   "source": [
    "text_splitter = RecursiveCharacterTextSplitter(chunk_size=1200, chunk_overlap=300)\n",
    "chunks = text_splitter.split_documents(documents)\n",
    "print(f\"Découpage terminé ({len(chunks)} chunks générés).\")\n",
    "print(\"🔹 Premier chunk :\", chunks[0])"
   ],
   "id": "ce5d2f6846606a0c",
   "outputs": [
    {
     "name": "stdout",
     "output_type": "stream",
     "text": [
      "Découpage terminé (48 chunks générés).\n",
      "🔹 Premier chunk : page_content='Beneficial Ownership Information Report\n",
      "Filing Instructions\n",
      "Financial Crimes Enforcement Network\n",
      "U.S. Department of the Treasury\n",
      "Version 1.0 January 2024'\n"
     ]
    }
   ],
   "execution_count": 11
  },
  {
   "metadata": {
    "ExecuteTime": {
     "end_time": "2025-03-13T18:08:34.593844Z",
     "start_time": "2025-03-13T18:08:34.571703Z"
    }
   },
   "cell_type": "code",
   "source": "documents",
   "id": "34fc4c5f793fd4fe",
   "outputs": [
    {
     "data": {
      "text/plain": [
       "[Document(metadata={}, page_content='Beneficial Ownership Information Report\\nFiling Instructions\\nFinancial Crimes Enforcement Network\\nU.S. Department of the Treasury\\nVersion 1.0 January 2024\\n\\nBeneficial Ownership Information Reporting Filing Instructions \\nJanuary 2024 - Version 1.0\\n2\\nTable of Contents\\nI. Who, What, When of Beneficial Ownership Information Reporting Requirements.........................3\\nII. Where to Report Beneficial Ownership Information ............................................................................5\\nIII. How to Report Beneficial Ownership Information.................................................................................6\\na. Recommendations for Successful Filings........................................................................................6\\nb. Item Instructions.................................................................................................................................10\\nDisclaimer: These filing instructions are explanatory only and do not supplement or modify any \\nobligations imposed by statute or regulation.  FinCEN may also revise these filing instructions to \\nclarify or update content.  For additional and latest information, consult www.fincen.gov/boi.\\n\\nBeneficial Ownership Information Reporting Filing Instructions \\nJanuary 2024 - Version 1.0\\n3\\nI. Who, What, When of Beneficial Ownership Information Reporting Requirements\\nThe Corporate Transparency Act requires certain types of U.S. and foreign entities to report \\nbeneficial ownership information to the Financial Crimes Enforcement Network (FinCEN), a \\nbureau of the U.S. Department of the Treasury.  Beneficial ownership information is information \\nabout the entity, its beneficial owners, and in certain cases its company applicants.  Beneficial \\nownership information is reported to FinCEN through Beneficial Ownership Information Reports \\n(BOIRs).\\nFinCEN’s website includes guidance about the beneficial ownership information reporting \\nrequirements on its beneficial ownership information webpage.  FinCEN’s Small Entity \\nCompliance Guide explains who must report, what they must report, and when they must \\nreport.  The Guide includes interactive flowcharts, checklists, and other aids to help determine \\nwhether an entity needs to file a BOIR with FinCEN, and if so, how to comply with the reporting \\nrequirements.  More information on where to look in the Small Entity Compliance Guide is \\nprovided below.\\nWHO\\nAn entity is required to report beneficial ownership information if it is a “reporting \\ncompany” and does not qualify for an exemption.  Chapter 1 of FinCEN’s Small Entity \\nCompliance Guide may assist in determining whether an entity qualifies for an exemption.\\nWHAT\\nBeneficial ownership information is information about an entity, its beneficial owners, \\nand, in certain cases, its company applicants.  The person submitting beneficial \\nownership information to FinCEN must certify that the information is true, correct, and \\ncomplete.  The specific information required is described in these instructions and \\nin Chapter 4 of FinCEN’s Small Entity Compliance Guide.  To learn more about how \\nto identify beneficial owners, review Chapter 2 of FinCEN’s Small Entity Compliance \\nGuide.  To learn more about the reporting requirements for and how to identify company \\napplicants, review Chapter 3 of FinCEN’s Small Entity Compliance Guide.\\n\\nBeneficial Ownership Information Reporting Filing Instructions \\nJanuary 2024 - Version 1.0\\n4\\nWHEN\\nFinCEN will begin accepting BOIRs electronically through its secure filing system January \\n1, 2024.  FinCEN will not accept BOIRs prior to January 1, 2024.  \\nIf a reporting company already exists as of January 1, 2024, it must file its initial BOIR by \\nJanuary 1, 2025.  If a reporting company is created or registered to do business in the \\nUnited States on or after January 1, 2024 and before January 1, 2025, it must file its initial \\nBOIR within 90 days after receiving actual or public notice that its creation or registration \\nis effective.  If a reporting company is created or registered to do business in the United \\nStates after January 1, 2025, then it must file its initial BOIR within 30 days after receiving \\nactual or public notice that its creation or registration is effective.  \\nIf there is any change to the required information about a reporting company or its \\nbeneficial owners in a BOIR that a reporting company filed, the reporting company must \\nfile an updated BOIR no later than 30 days after the date on which the change occurred.\\nIf the reporting company identifies an inaccuracy in a BOIR that the reporting company \\nfiled, the reporting company must correct it no later than 30 days after the date the \\nreporting company became aware of the inaccuracy or had reason to know of it.\\nMore information about reporting timelines may be found in Chapter 5 and Chapter 6 of \\nFinCEN’s Small Entity Compliance Guide.\\nThe rest of these filing instructions explain where and how to report beneficial ownership \\ninformation to FinCEN by filing a BOIR\\n\\nBeneficial Ownership Information Reporting Filing Instructions \\nJanuary 2024 - Version 1.0\\n5\\nII. Where to Report Beneficial Ownership Information \\nReporting companies may complete BOIRs electronically by accessing the BOI E-Filing portal at \\nhttp s://boiefiling.fincen.gov (accessible beginning on January 1, 2024).\\nThe E-Filing portal permits a reporting company to choose one of the following filing methods to \\nsubmit a BOIR:\\n— Upload finalized PDF version of BOIR and submit online.\\n— Fill out Web-based version of BOIR and submit online.\\nA reporting company may submit its BOIR through either of these methods, both of which require \\nthe filing to be done online as BOIRs cannot be mailed or faxed to FinCEN.  In each case, the \\nperson who submits a BOIR will need to provide their name and email address to FinCEN.\\nThe person who submits a BOIR will receive confirmation of submission when a BOIR is accepted \\nby FinCEN.\\nThe E-Filing submission guides for both PDF and web-based versions of the BOIR may\\nassist in submitting completed BOIRs to FinCEN.  To access these guides, go to\\nhttp s://boifiling.fincen.gov and select Help.\\nFinCEN also offers system-to-system BOIR transmission via secure Application Programming \\nInterface (API) for those, including third-party service providers, who are interested in \\nautomating the BOIR filing process.\\n\\nBeneficial Ownership Information Reporting Filing Instructions \\nJanuary 2024 - Version 1.0\\n6\\nIII. How to Report Beneficial Ownership Information\\nReport beneficial ownership information to FinCEN by filing a true, correct, and complete BOIR.  \\nThis section includes specific recommendations and instructions to assist in reporting beneficial \\nownership information to FinCEN by filing a BOIR.\\na. Recommendations for Successful Filings\\n1.\\t Complete Filings\\nBOIRs must be complete before they can be filed with FinCEN.  FinCEN will not accept a BOIR if \\nany items marked with a red asterisk (*) are blank.  \\nNOTE: Filers must provide information in EVERY field marked with the * symbol in ALL \\nCIRCUMSTANCES.  Filers must also provide information in all fields not marked with the * symbol \\nthat are applicable to the filer.  For example, the “Middle Name” field is not marked with a * \\nsymbol; the filer MUST provide information in that field IF the relevant individual’s legal name \\nincludes a middle name.  Notwithstanding any other instruction, reporting companies must \\nprovide all information required pursuant to 31 CFR 1010.380(b). \\nCompleting an initial BOIR: Complete an initial BOIR by providing all the following information:\\n• For the reporting company: \\n »\\nFull legal name; \\n »\\nAny trade name or “doing business as” name; \\n »\\nComplete current U.S. address; \\n »\\nJurisdiction of formation (including State1 or Tribal jurisdiction for a domestic \\nreporting company);   \\n »\\nFor a foreign reporting company only, State or Tribal jurisdiction of first registration; \\nand\\n »\\nIRS Taxpayer Identification Number (TIN), including an Employer Identification \\nNumber (EIN) (or, if a foreign reporting company has not been issued a TIN, the \\nreporting company’s foreign tax identification number and the name of the issuing \\njurisdiction).\\n1 State means any State of the United States, the District of Columbia, the Commonwealth of Puerto Rico, the Commonwealth of \\nthe Northern Mariana Islands, American Samoa, Guam, the United States Virgin Islands, and any other commonwealth, territo\\xad\\nry, or possession of the United States. \\n\\nBeneficial Ownership Information Reporting Filing Instructions \\nJanuary 2024 - Version 1.0\\n7\\n• For each beneficial owner and each company applicant required to be reported:  \\n »\\nFull legal name;\\n »\\nDate of birth; \\n »\\nComplete current address; \\n »\\nUnique identifying number and issuing jurisdiction from one of the following non-\\nexpired documents: (1) U.S. passport; (2) identification document issued by a State, \\nlocal government, or Indian Tribe issued for the purpose of identifying the individual; \\n(3) State-issued driver’s license; or (4) if none of (1)–(3) are available, a foreign \\npassport; and \\n »\\nAn image of the document from which the unique identifying number was obtained.\\nReporting companies may provide a FinCEN identifier for a beneficial owner or company \\napplicant instead of the information listed above.\\nCompleting a corrected or an updated BOIR: If a previously submitted BOIR needs to be \\ncorrected or updated, complete a corrected or updated BOIR in its entirety, with the necessary \\ncorrections or updates made to the information.  Reporting companies must resubmit \\nunchanged information along with the corrected or updated information.\\nCompleting a newly exempt entity BOIR: If a BOIR was previously submitted for an entity that \\nhas become exempt, complete a newly exempt entity BOIR by reporting that the type of filing is \\n“newly exempt entity”, as well as the company name and TIN that the company provided in the \\nlast BOIR it filed.  No additional information is required.\\n2.\\t Names of Individuals\\nEnter the individual’s full last name, first name, and middle name as it is shown on a valid \\ngovernment identification document.\\nMultiple Last Names: If an individual’s name consists of a first name and multiple last names \\n(e.g., a father’s last name and amother’s last name), the multiple last name elements would be \\nentered in the last name field and the first name entered in the first name field.  For example, if an \\nindividual’s name is Juan (first name) Vega (first last name) Santiago (second last name), “VEGA \\nSANTIAGO” would be entered in the last name field and “JUAN” would be entered in the first \\nname field.\\nIf an individual’s name typically is written with the family name first, that family name should be \\nentered in the last name field. \\n\\nBeneficial Ownership Information Reporting Filing Instructions \\nJanuary 2024 - Version 1.0\\n8\\nNo Middle Name: If an individual’s full legal name does not include a middle name, the middle \\nname field should be left blank.  If an individual’s full legal name does include a middle name, the \\nfull middle name should be provided.  Entry of a middle initial only is not permitted. \\nMultiple First Names: If an individual has two first names and no middle name, both first names \\nshould be entered in the first name field (e.g., an individual who has “Mary Elizabeth” as a first \\nname, but no middle name, should enter “Mary Elizabeth” in the first name field).  The middle \\nname field should be left blank.\\nName Suffix: A name suffix may be abbreviated: Junior can be JR, Senior can be SR, the Third \\ncan be III, etc.\\nPunctuation, abbreviations, and special characters should be used in names only when they are \\npart of the individual’s legal name.  \\n3.\\t Addresses \\nAddresses provided on BOIRs must be in certain data formats to be accepted.\\nZIP Codes: ZIP Codes must be five or nine digits. ZIP Codes and foreign postal codes must be \\nentered without formatting or special characters such as spaces or hyphens.  For example, the \\nZIP Code 12345-6120 should be entered as 123456120.  The foreign postal code HKW 702 should \\nbe entered HKW702. \\nU.S. Territories: When an address is in a U.S. Territory, the Territory code must be selected in the \\n“U.S. or U.S. Territory” field.  The BOIR will then automatically fill the State field with the relevant \\nTerritory code. \\nNon-U.S. Addresses: When an address is not in the United States, enter the street address, city, \\ncountry/jurisdiction, and foreign postal code.  If a foreign address contains information that does \\nnot exactly match the BOIR address fields, provide the foreign address information in the existing \\nBOIR address fields regardless of whether the field fully matches the address information.  All \\nforeign address information should be reflected somewhere in the BOIR address fields provided.\\nNo abbreviations are permitted in city names, which must be completely spelled out.  A U.S. city name \\nmust match the city name used by the U.S. Postal Service for the associated State and ZIP Code. \\n4.\\t Unique Identifying Numbers\\nEnter all unique identifying numbers as a single text string without formatting or special \\ncharacters such as hyphens or periods.  An identifying number in the format NNN-NN-NNNN \\nshould be entered as NNNNNNNNN. \\n\\nBeneficial Ownership Information Reporting Filing Instructions \\nJanuary 2024 - Version 1.0\\n9\\n5.\\t Identifying Document Image Attachment\\nReporting companies must attach identifying document images to BOIRs.  As discussed above, \\nseveral types of identifying documents may be used, including a non-expired U.S. passport or \\nState-issued driver’s license.  Images of these identifying documents must be provided for all \\ncompany applicants identified in Part II (item 33) and all beneficial owners identified in Part III \\n(item 51) of the BOIR.  A complete, clear, and readable image of the page or side of the identifying \\ndocument containing the unique identifying number of the company applicant or beneficial \\nowner, and other identifying data must be provided.  An attachment to a BOIR cannot be larger \\nthan four (4) megabytes of data.  Multiple attachments may be added to a BOIR, but only one \\nimage attachment is permitted per company applicant or beneficial owner reported in a BOIR.\\n6.\\t Prohibited Words and Phrases\\nDo not use the following words or variations of these words in text fields of the BOIR:\\na. AKA\\nb. DBA\\nc. NMN\\nd. NONE\\ne. NOT APPLICABLE\\nf. OTHER\\ng. SAME\\nh. SAME AS ABOVE\\ni. SEE ABOVE\\nj. T/A\\nk. UNKNOWN\\nl. VARIOUS\\nm. XX\\n\\nBeneficial Ownership Information Reporting Filing Instructions \\nJanuary 2024 - Version 1.0\\n10\\nb. Item Instructions\\nThe item instructions show a line item, or field, of the BOIR followed by line-by-line instructions \\non how to fill out each item.  \\nNOTE: Filers must provide information in EVERY field marked with the * symbol in ALL \\nCIRCUMSTANCES.  Filers must also provide information in all fields not marked with the * symbol \\nthat are applicable to the filer.  For example, the “Middle Name” field is not marked with a * \\nsymbol; the filer MUST provide information in that field IF the relevant individual’s legal name \\nincludes a middle name.  Notwithstanding any other instruction, reporting companies must \\nprovide all information required pursuant to 31 CFR 1010.380(b). \\nBOIR Section: Filing Information\\nBOIR Item 1: \\n1. *Type of filing (select one checkbox, 1a-1d)\\na. Initial report\\nb. Correct prior report \\nc. Update prior report\\nd. Newly exempt entity \\nReporting company information associated with most recent report, if any: \\ne. Legal name\\nf. Tax identification type (select one from list)\\n• \\nEIN\\n• \\nSSN/ITIN\\n• \\nForeign\\ng. Tax identification number\\nh. Country/Jurisdiction (if foreign tax ID only) (select one from list) \\nInstructions for Item 1 – Type of filing:\\nCheck box 1a “Initial report” if this is the first BOIR filed for the reporting company. \\nCheck box 1b “Correct prior report” if the report corrects inaccurate information from a previously \\nfiled BOIR. \\nCheck box 1c “Update prior report” if the report updates a previously filed BOIR, for example, to \\ninclude one or more new beneficial owners. \\n\\nBeneficial Ownership Information Reporting Filing Instructions \\nJanuary 2024 - Version 1.0\\n11\\nCheck box 1d “Newly exempt entity” if, after having filed a BOIR, the reporting company is now \\nexempt from BOI reporting requirements.  If this checkbox is selected, then filer must fill out fields \\n1e–1h (reporting company information associated with most recent report) and no other fields in \\nthe BOIR.\\nIf type of filing 1b, 1c, or 1d is selected, enter values for 1e “Legal name”, 1f “Tax identification \\ntype”, and 1g “Tax identification number” for the reporting company that match the most recently \\nfiled BOIR.  For example, if the reporting company previously filed an initial report and then an \\nupdated report, the reporting company information in the next updated report should match the \\nreporting company information provided on the most recently filed updated report rather than \\nthe initial report.  \\nFor 1f, select the tax identification type (i.e., a U.S. Employer Identification Number (EIN), a U.S. \\nSocial Security Number or Individual Taxpayer Identification Number (SSN-ITIN), or foreign \\ntaxpayer identification number (Foreign)) the reporting company reported in the most recently \\nfiled BOIR.  If tax identification type entered in 1f is “Foreign”, select the corresponding foreign \\ncountry/jurisdiction in 1h “Country/Jurisdiction (if foreign tax ID only)” associated with the foreign \\ntax identification number.\\nBOIR Item 2: \\n2. Date prepared (auto-filled when the form is finalized) \\nInstructions for Item 2 – Date prepared:\\nThis item is automatically populated with the current date.\\nBOIR Section: Part I Reporting Company Information \\nReporting company information is entered in fields 3 through 16 of the BOIR.  \\nBOIR Item 3: \\n3. Request to receive FinCEN Identifier (FinCEN ID) \\nInstructions for Item 3 – Request to receive FinCEN Identifier (FinCEN ID):\\nCheck this box to receive a unique FinCEN Identifier for the reporting company.  The FinCEN \\nIdentifier will be provided in the submission confirmation details provided to the filer after the \\nBOIR is accepted.\\nBOIR Item 4:\\n4. Foreign pooled investment vehicle \\nInstructions for Item 4 – Foreign pooled investment vehicle:\\nCheck this box if the reporting company is a foreign pooled investment vehicle required to report \\ninformation pursuant to 31 CFR 1010.380(b)(2)(iii). \\nIf the reporting company is a foreign pooled investment vehicle, the company need only \\nreport one beneficial owner who exercises substantial control over the entity.  If more than one \\n\\nBeneficial Ownership Information Reporting Filing Instructions \\nJanuary 2024 - Version 1.0\\n12\\nindividual exercise substantial control over the entity, the entity shall report information with \\nrespect to the individual who has the greatest authority over the strategic management of the \\nentity.  The report should not include any information about company applicants.  \\nBOIR Item 5: \\nFull legal name and alternate name(s):\\n5. * Reporting company legal name\\nInstructions for Item 5 – Reporting company legal name:\\nEnter the reporting company’s full legal name as recorded on the articles of incorporation or \\nother documents creating or registering the entity. \\nBOIR Item 6:\\n6. Alternate name (e.g., trade name, DBA) \\nInstructions for Item 6 – Alternate name:\\nEnter any of the reporting company’s trade names, “doing business as” or DBA names, or “trading \\nas” or T/A names.  If the reporting company has multiple alternate names, use the “+” or “-“ \\nbuttons in the BOIR to add additional alternate name fields (one field for each alternate name).  \\nDo not include the acronyms DBA or AKA with the alternate name.\\nBOIR Item 7:\\nForm of identification:\\n7. * Tax identification type (select one from list)\\n• \\nEIN\\n• \\nSSN/ITIN\\n• \\nForeign\\nInstructions for Item 7 – Tax identification type:\\nSelect “EIN” if the reporting company has a U.S. Employer Identification Number (EIN).  Select \\n“SSN-ITIN” if the reporting company utilizes a U.S. Social Security Number (SSN) or Individual \\nTaxpayer Identification Number (ITIN) as a tax identification number.  Select “Foreign” if the \\nreporting company has a tax identification number issued by a foreign jurisdiction and does not \\nhave a U.S. tax identification number.\\nBOIR Item 8:\\n8. * Tax Identification number\\nInstructions for Item 8 – Tax identification number:\\nEnter the tax identification number for the reporting company.  \\nBOIR Item 9:\\n9. Country/Jurisdiction (if foreign tax ID only) (select one from list)\\n\\nBeneficial Ownership Information Reporting Filing Instructions \\nJanuary 2024 - Version 1.0\\n13\\nInstructions for Item 9 – Country/Jurisdiction:\\nIf the tax identification type in item 7 is “Foreign”, select the foreign country/jurisdiction that \\nissued the foreign tax identification number. \\nBOIR Item 10:\\nJurisdiction of formation or first registration:\\n10. * a. Country/Jurisdiction of formation (select from list)\\nDomestic reporting company: (complete if U.S. or U.S. Territory selected in 10a)\\nb. State of formation \\nc. Tribal jurisdiction of formation \\nd. Name of other Tribe \\nForeign reporting company: (required if foreign country selected in 10a)\\ne. State of first registration \\nf. Tribal jurisdiction of first registration \\ng. Name of other Tribe \\nInstructions for Item 10 – Jurisdiction of formation or first registration:\\nEnter the country/jurisdiction of formation in item 10a.  If United States is selected in 10a, then \\nitems 10b–10d should be completed, identifying the State or Tribal jurisdiction of formation.  If \\na U.S. Territory is selected in 10a, then item 10b is automatically populated with the relevant \\nU.S. Territory, and items 10c and 10d are unavailable.  If Item 10a is a foreign country, then item \\n10e – 10f should be completed, identifying the State/U.S. Territory or Tribal jurisdiction in which \\nthe foreign reporting company first registered to do business in the United States.  If the Tribal \\njurisdiction of formation (10c) or Tribal jurisdiction of first registration (10f) is not listed in the \\ndrop-down, select “Other” and enter the name of the Tribe in 10d or 10g. \\nBOIR Items 11-15:\\nCurrent U.S. address:\\n11. * Address (number, street, and apt. or suite no.)\\n12. * City\\n13. * U.S. or U.S. Territory\\n14. * State (select from list, U.S. State or U.S. Territory only)\\n15. * ZIP Code\\nInstructions for Items 11–15 – Reporting company address:\\nEnter the reporting company’s complete current street address information, including city, State, \\nZIP Code, and select in item 13 whether the address is in the United States or a specific U.S. \\n\\nBeneficial Ownership Information Reporting Filing Instructions \\nJanuary 2024 - Version 1.0\\n14\\nTerritory.  If the reporting company has a principal place of business in the United States or U.S. \\nTerritory, the street address should be that of the principal place of business.  Otherwise, the \\nstreet address should be the primary location in the United States or U.S. Territory where the \\nreporting company conducts business.  If a U.S. Territory is selected in item 13, then item 14 is \\nautomatically populated with the relevant U.S. Territory.\\nBOIR Item 16:\\n16. Existing reporting company \\nInstructions for Item 16 – Existing reporting company:\\nCheck this box if the reporting company was created or registered before January 1, 2024.  Do \\nnot check the box if the reporting company was created or registered on or after January 1, 2024.  \\nReporting companies that check this box are not required to report any company applicants; \\nproceed to Part III.\\nBOIR Item 17:\\n17. Reserved for future use.   \\nInstructions for Item 17:\\nItem 17 is reserved for future use on the BOIR.  It is not currently in use, and no information is \\ncurrently required for this item.\\nBOIR Section: Part II Company Applicant Information\\nCompany applicant information is entered in fields 18 through 33 of the BOIR.  Company \\napplicants are individuals; no companies or legal entities may be reported as company \\napplicants.  Reporting companies may also provide FinCEN Identifiers for company applicants \\ninstead of this information.  See detailed description below.\\nUse the “+” or “-” keys at the top of this section to add or remove additional company applicants.  \\nNo more than two company applicants should be reported. \\nIf existing reporting company was checked in item 16, company applicant information is not \\nrequired; proceed to Part III.\\nBOIR Item 18:\\nCompany applicant FinCEN ID:\\n18. FinCEN ID \\nInstructions for Item 18 – FinCEN ID:\\nReporting companies may report the FinCEN ID for a company applicant instead of the \\ninformation in fields 19 through 33.  Enter the FinCEN ID as a single text string.  If a FinCEN ID \\nfor the company applicant is not provided, information about the company applicant must be \\nprovided in fields 19 through 33.\\n\\nBeneficial Ownership Information Reporting Filing Instructions \\nJanuary 2024 - Version 1.0\\n15\\nBOIR Item 19: \\nFull legal name and date of birth:\\n19. * Individual’s last name\\nInstructions for Item 19 – Last name:\\nEnter the company applicant’s legal last name. \\nBOIR Item 20: \\n20. * First name\\nInstructions for Item 20 – First name:\\nEnter the company applicant’s legal first name. \\nBOIR Item 21: \\n21. Middle name\\nInstructions for Item 21 – Middle name:\\nEnter the company applicant’s middle name if the company applicant’s legal name has a middle \\nname.  Leave this item blank if the company applicant does not have a middle name.\\nBOIR Item 22: \\n22. Suffix\\nInstructions for Item 22 – Suffix:\\nEnter the company applicant’s suffix such as JR, SR, III, etc., if the company applicant has a suffix \\nto their legal name.  Leave this item blank if the company applicant’s legal name does not include \\na suffix.\\nBOIR Item 23: \\n23. * Date of birth\\nInstructions for Item 23 – Date of birth:\\nEnter the company applicant’s date of birth using the format MM/DD/YYYY where MM = month, DD \\n= day, and YYYY = year (e.g., 01/25/1970).  The month, day, and year must be provided; no partial \\ndates are accepted.\\nBOIR Item 24: \\nCurrent address:\\n24. * Address type (select checkbox 24a or 24b)\\na. Business address\\nb. Residential address\\n\\nBeneficial Ownership Information Reporting Filing Instructions \\nJanuary 2024 - Version 1.0\\n16\\nInstructions for Item 24 – Address type:\\nIndicate address type as “Business address” or “Residential address” for the company applicant.  \\nFor a company applicant who forms or registers an entity in the course of their business, such \\nas paralegals, report the street address of such business.  In any other case, the individual’s \\nresidential street address must be reported.  \\nBOIR Items 25-29: \\n25. * Address (number, street, and apt. or suite no.)\\n26. * City\\n27. * Country/Jurisdiction \\n28. * State \\n29. * ZIP/Foreign postal code\\nInstructions for Items 25–29 – Company applicant address:\\nEnter the company applicant’s street address information, including the city, country or \\njurisdiction, State, and ZIP code or foreign postal code.  U.S. Territories are included in the drop-\\ndown menu for “Country/Jurisdiction.”  The “State” (item 28) will be automatically populated \\nwhen a U.S. Territory is selected in the “Country/Jurisdiction” (item 27).  Item 28 “State” is \\nrequired if the country selected in item 27 is the United States, Canada, or Mexico.  \\nBOIR Item 30: \\nForm of identification and issuing jurisdiction:\\n30. * Identifying document type (select one from list, 30a-30d)\\na. State-issued driver’s license\\nb. State/local/Tribe-issued ID\\nc. U.S. passport\\nd. Foreign passport\\nInstructions for Item 30 – Identifying document type:\\nSelect the company applicant’s identifying document type from the list of acceptable documents: \\na non-expired State-issued driver’s license, a non-expired State/local/Tribe-issued identification \\ndocument issued for the purpose of identifying the individual, a non-expired U.S. passport, or, \\nonly if the company applicant does not have one of these identifying documents, a non-expired \\nforeign passport. \\n\\nBeneficial Ownership Information Reporting Filing Instructions \\nJanuary 2024 - Version 1.0\\n17\\nBOIR Item 31: \\n31. * Identifying document number\\nInstructions for Item 31 – Identifying document number:\\nEnter the identifying document number from the company applicant’s identifying document.  \\nBOIR Item 32: \\n32. * Identifying document issuing jurisdiction \\na. Country/Jurisdiction \\nb. State \\nc. Local/Tribal \\nd. Other local/Tribal description \\nInstructions for Item 32 – Identifying document issuing jurisdiction:\\nEnter in item 32a the country/jurisdiction that issued the company applicant’s identifying \\ndocument.  If a U.S. Territory issued the identifying document, select the applicable U.S. Territory \\nin item 32a (the same U.S. Territory will then be automatically populated in item 32b “State” as \\na result).  Enter in 32b the State issuing the identifying document when country/jurisdiction is \\nUnited States, if applicable.  If a local or Tribal government issued the identifying document, \\nselect “United States” in item 32a and then select the applicable local or Tribal description in item \\n32c.  If the name of the relevant local or Tribal jurisdiction is not included in the drop-down menu \\nin item 32c, select “Other” and enter the name of the local or Tribal jurisdiction in item 32d. \\nBOIR Item 33: \\n33. * Identifying document image \\nInstructions for Item 33 – Identifying document image:\\nUse the “Add Attachment” button on the BOIR to attach a clear, readable image of the page or \\nside of the identifying document referenced in item 31 containing the unique identifying number \\nand other identifying data.  Use the “Remove Attachment” button to remove the attached image \\nif necessary.  An attachment to a BOIR cannot be larger than four (4) megabytes of data and must \\nbe in one of the following formats: JPG/JPEG, PNG, or PDF.  Only one (1) attachment file may be \\nadded per company applicant.\\nBOIR Item 34:\\n34. Reserved for future use.\\nInstructions for Item 34:\\nItem 34 is reserved for future use on the BOIR.  It is not currently in use, and no information is \\ncurrently required for this item.\\n\\nBeneficial Ownership Information Reporting Filing Instructions \\nJanuary 2024 - Version 1.0\\n18\\nBOIR Section: Part III Beneficial Owner Information \\nBeneficial owner information is entered in fields 35 through 51 of the BOIR.  Reporting companies \\nmay also report a FinCEN Identifier for a beneficial owner instead of this information.  See \\ndetailed description below.\\nUse the “+” or “-” keys at the top of this section to add or remove additional beneficial owners.  \\nThere is no limit on the number of beneficial owners that may be reported. \\nBOIR Item 35:\\n35. Parent/Guardian information instead of minor child \\nInstructions for Item 35 – Parent/Guardian information instead of minor child:\\nIf the beneficial owner for the reporting company is a minor child, you may check this box and \\ncomplete Part III with information about a parent or legal guardian of the minor child.\\nBOIR Item 36: \\nBeneficial owner FinCEN ID:\\n36. FinCEN ID \\nInstructions for Item 36 – FinCEN ID:\\nReporting companies may provide a FinCEN Identifier for a beneficial owner instead of Items 37 \\nthrough 51.  Enter the FinCEN ID as a single text string.  If a FinCEN ID for the beneficial owner is \\nnot provided, information about the beneficial owner must be provided in fields 37 through 51.\\nBOIR Item 37: \\nExempt entity:\\n37. Exempt entity \\nInstructions for Item 37 – Exempt entity:\\nCheck this box if the beneficial owner holds its ownership interest in the reporting company \\nexclusively through one or more exempt entities, and the name of that exempt entity or entities \\nare being reported in lieu of the beneficial owner’s information.  If checked, provide the legal \\nname of the exempt entity in field 38.\\nBOIR Item 38: \\nFull legal name and date of birth:\\n38. * Individual’s last name or entity’s legal name\\nInstructions for Item 38 – Individual’s last name or entity’s legal name:\\nEnter the beneficial owner’s legal last name or the exempt entity’s legal name.  An entity’s legal \\nname is the name on the articles of incorporation or other document that created or registered \\nthe entity.  Do not abbreviate names unless an abbreviation is part of the legal name. \\n\\nBeneficial Ownership Information Reporting Filing Instructions \\nJanuary 2024 - Version 1.0\\n19\\nBOIR Item 39: \\n39. * First name\\nInstructions for Item 39 – First name:\\nEnter the beneficial owner’s legal first name. \\nBOIR Item 40: \\n40. Middle name\\nInstructions for Item 40 – Middle name:\\nEnter the beneficial owner’s middle name if the beneficial owner’s legal name includes a middle \\nname.  Leave this item blank if the beneficial owner does not have a middle name.\\nBOIR Item 41: \\n41. Suffix\\nInstructions for Item 41 – Suffix:\\nEnter the beneficial owner’s suffix such as JR, SR, III, etc., if the beneficial owner has a suffix to their \\nlegal name.  Leave this item blank if the beneficial owner’s legal name does not include a suffix.\\nBOIR Item 42: \\n42. * Date of birth\\nInstructions for Item 42 – Date of birth:\\nEnter the beneficial owner’s date of birth, using the format MM/DD/YYYY where MM = month, DD \\n= day, and YYYY = year (e.g., 01/25/1970).  The month, day, and year must be provided; no partial \\ndates will be accepted.\\nBOIR Items 43–47: \\nResidential address:\\n43. * Address (number, street, and apt. or suite no.)\\n44. * City\\n45. * Country/Jurisdiction \\n46. * State \\n47. * ZIP/Foreign postal code\\nInstructions for Items 43–47 – Beneficial owner address:\\nEnter the beneficial owner’s residential street address information, including the city, country or \\njurisdiction, State, and ZIP code or foreign postal code.  U.S. Territories are included in the drop-\\ndown menu for “Country/Jurisdiction.”  The “State” (item 46) will be automatically populated \\nwhen a U.S. Territory is selected in the “Country/ Jurisdiction” (item 45).  Item 46 “State” is \\nrequired if the country selected in item 45 is the United States, Canada, or Mexico. \\n\\nBeneficial Ownership Information Reporting Filing Instructions \\nJanuary 2024 - Version 1.0\\n20\\nBOIR Item 48: \\nForm of identification and issuing jurisdiction:\\n48. * Identifying document type (select one from list 48a-48d)\\na. State-issued driver’s license\\nb. State/local/Tribe-issued ID\\nc. U.S. passport\\nd. Foreign passport\\nInstructions for Item 48 – Identifying document type:\\nSelect the beneficial owner’s non-expired identifying document type from the list of acceptable \\nidentification documents: a State-issued driver’s license, a State/local/Tribe-issued identification \\ndocument issued for the purpose of identifying the individual, a U.S. passport, or, only if the \\nbeneficial owner does not have one of these three types of identifying documents, a foreign passport. \\nBOIR Item 49: \\n49. * Identifying document number\\nInstructions for Item 49 – Identifying document number:\\nEnter the identifying document number from the beneficial owner’s identifying document.  \\nBOIR Item 50: \\n50. * Identifying document issuing jurisdiction \\na. Country/Jurisdiction \\nb. State \\nc. Local/Tribal \\nd. Other local/Tribal description \\nInstructions for Item 50 – Identifying document issuing jurisdiction:\\nEnter in item 50a the country/jurisdiction that issued the beneficial owner’s identifying \\ndocument.  If a U.S. Territory issued the identifying document, select the applicable U.S. Territory \\nin item 50a (the same U.S. Territory will then be automatically populated in item 50b “State” as \\na result).  Enter in 50b the State that issued the identifying document when country/jurisdiction \\nis United States, if applicable.  If a local or Tribal government issued the identifying document, \\nselect “United States” in 50a and then select the applicable local or Tribal description in item 50c.  \\nIf the name of the relevant local or Tribal jurisdiction is not included in the drop-down menu in \\nitem 50c, select “Other” and enter the name of the local or Tribal jurisdiction in item 50d. \\n\\nBeneficial Ownership Information Reporting Filing Instructions \\nJanuary 2024 - Version 1.0\\n21\\nBOIR Item 51: \\n51. * Identifying document image \\nInstructions for Item 51 – Identifying document image:\\nUse the “Add Attachment” button on the BOIR to attach a clear, readable image of the page or \\nside of the identifying document referenced in item 49 containing the unique identifying number \\nand other identifying data.  Use the “Remove Attachment” button to remove the attached image \\nif necessary.  An attachment to a BOIR cannot be larger than four (4) megabytes of data and must \\nbe in one of the following formats: JPG/JPEG, PNG, or PDF. Only one (1) attachment file may be \\nadded per beneficial owner.\\n')]"
      ]
     },
     "execution_count": 12,
     "metadata": {},
     "output_type": "execute_result"
    }
   ],
   "execution_count": 12
  },
  {
   "metadata": {
    "ExecuteTime": {
     "end_time": "2025-03-13T18:08:34.608732Z",
     "start_time": "2025-03-13T18:08:34.597669Z"
    }
   },
   "cell_type": "code",
   "source": "len(chunks)",
   "id": "c88c5d623cb52816",
   "outputs": [
    {
     "data": {
      "text/plain": [
       "48"
      ]
     },
     "execution_count": 13,
     "metadata": {},
     "output_type": "execute_result"
    }
   ],
   "execution_count": 13
  },
  {
   "metadata": {
    "ExecuteTime": {
     "end_time": "2025-03-13T18:08:34.637892Z",
     "start_time": "2025-03-13T18:08:34.618914Z"
    }
   },
   "cell_type": "code",
   "source": "chunks",
   "id": "5efca070e393deb1",
   "outputs": [
    {
     "data": {
      "text/plain": [
       "[Document(metadata={}, page_content='Beneficial Ownership Information Report\\nFiling Instructions\\nFinancial Crimes Enforcement Network\\nU.S. Department of the Treasury\\nVersion 1.0 January 2024'),\n",
       " Document(metadata={}, page_content='Beneficial Ownership Information Reporting Filing Instructions \\nJanuary 2024 - Version 1.0\\n2\\nTable of Contents\\nI. Who, What, When of Beneficial Ownership Information Reporting Requirements.........................3\\nII. Where to Report Beneficial Ownership Information ............................................................................5\\nIII. How to Report Beneficial Ownership Information.................................................................................6\\na. Recommendations for Successful Filings........................................................................................6\\nb. Item Instructions.................................................................................................................................10\\nDisclaimer: These filing instructions are explanatory only and do not supplement or modify any \\nobligations imposed by statute or regulation.  FinCEN may also revise these filing instructions to \\nclarify or update content.  For additional and latest information, consult www.fincen.gov/boi.'),\n",
       " Document(metadata={}, page_content='Beneficial Ownership Information Reporting Filing Instructions \\nJanuary 2024 - Version 1.0\\n3\\nI. Who, What, When of Beneficial Ownership Information Reporting Requirements\\nThe Corporate Transparency Act requires certain types of U.S. and foreign entities to report \\nbeneficial ownership information to the Financial Crimes Enforcement Network (FinCEN), a \\nbureau of the U.S. Department of the Treasury.  Beneficial ownership information is information \\nabout the entity, its beneficial owners, and in certain cases its company applicants.  Beneficial \\nownership information is reported to FinCEN through Beneficial Ownership Information Reports \\n(BOIRs).\\nFinCEN’s website includes guidance about the beneficial ownership information reporting \\nrequirements on its beneficial ownership information webpage.  FinCEN’s Small Entity \\nCompliance Guide explains who must report, what they must report, and when they must \\nreport.  The Guide includes interactive flowcharts, checklists, and other aids to help determine \\nwhether an entity needs to file a BOIR with FinCEN, and if so, how to comply with the reporting'),\n",
       " Document(metadata={}, page_content='Compliance Guide explains who must report, what they must report, and when they must \\nreport.  The Guide includes interactive flowcharts, checklists, and other aids to help determine \\nwhether an entity needs to file a BOIR with FinCEN, and if so, how to comply with the reporting \\nrequirements.  More information on where to look in the Small Entity Compliance Guide is \\nprovided below.\\nWHO\\nAn entity is required to report beneficial ownership information if it is a “reporting \\ncompany” and does not qualify for an exemption.  Chapter 1 of FinCEN’s Small Entity \\nCompliance Guide may assist in determining whether an entity qualifies for an exemption.\\nWHAT\\nBeneficial ownership information is information about an entity, its beneficial owners, \\nand, in certain cases, its company applicants.  The person submitting beneficial \\nownership information to FinCEN must certify that the information is true, correct, and \\ncomplete.  The specific information required is described in these instructions and \\nin Chapter 4 of FinCEN’s Small Entity Compliance Guide.  To learn more about how \\nto identify beneficial owners, review Chapter 2 of FinCEN’s Small Entity Compliance'),\n",
       " Document(metadata={}, page_content='complete.  The specific information required is described in these instructions and \\nin Chapter 4 of FinCEN’s Small Entity Compliance Guide.  To learn more about how \\nto identify beneficial owners, review Chapter 2 of FinCEN’s Small Entity Compliance \\nGuide.  To learn more about the reporting requirements for and how to identify company \\napplicants, review Chapter 3 of FinCEN’s Small Entity Compliance Guide.'),\n",
       " Document(metadata={}, page_content='Beneficial Ownership Information Reporting Filing Instructions \\nJanuary 2024 - Version 1.0\\n4\\nWHEN\\nFinCEN will begin accepting BOIRs electronically through its secure filing system January \\n1, 2024.  FinCEN will not accept BOIRs prior to January 1, 2024.  \\nIf a reporting company already exists as of January 1, 2024, it must file its initial BOIR by \\nJanuary 1, 2025.  If a reporting company is created or registered to do business in the \\nUnited States on or after January 1, 2024 and before January 1, 2025, it must file its initial \\nBOIR within 90 days after receiving actual or public notice that its creation or registration \\nis effective.  If a reporting company is created or registered to do business in the United \\nStates after January 1, 2025, then it must file its initial BOIR within 30 days after receiving \\nactual or public notice that its creation or registration is effective.  \\nIf there is any change to the required information about a reporting company or its \\nbeneficial owners in a BOIR that a reporting company filed, the reporting company must \\nfile an updated BOIR no later than 30 days after the date on which the change occurred.'),\n",
       " Document(metadata={}, page_content='If there is any change to the required information about a reporting company or its \\nbeneficial owners in a BOIR that a reporting company filed, the reporting company must \\nfile an updated BOIR no later than 30 days after the date on which the change occurred.\\nIf the reporting company identifies an inaccuracy in a BOIR that the reporting company \\nfiled, the reporting company must correct it no later than 30 days after the date the \\nreporting company became aware of the inaccuracy or had reason to know of it.\\nMore information about reporting timelines may be found in Chapter 5 and Chapter 6 of \\nFinCEN’s Small Entity Compliance Guide.\\nThe rest of these filing instructions explain where and how to report beneficial ownership \\ninformation to FinCEN by filing a BOIR'),\n",
       " Document(metadata={}, page_content='Beneficial Ownership Information Reporting Filing Instructions \\nJanuary 2024 - Version 1.0\\n5\\nII. Where to Report Beneficial Ownership Information \\nReporting companies may complete BOIRs electronically by accessing the BOI E-Filing portal at \\nhttp s://boiefiling.fincen.gov (accessible beginning on January 1, 2024).\\nThe E-Filing portal permits a reporting company to choose one of the following filing methods to \\nsubmit a BOIR:\\n— Upload finalized PDF version of BOIR and submit online.\\n— Fill out Web-based version of BOIR and submit online.\\nA reporting company may submit its BOIR through either of these methods, both of which require \\nthe filing to be done online as BOIRs cannot be mailed or faxed to FinCEN.  In each case, the \\nperson who submits a BOIR will need to provide their name and email address to FinCEN.\\nThe person who submits a BOIR will receive confirmation of submission when a BOIR is accepted \\nby FinCEN.\\nThe E-Filing submission guides for both PDF and web-based versions of the BOIR may\\nassist in submitting completed BOIRs to FinCEN.  To access these guides, go to\\nhttp s://boifiling.fincen.gov and select Help.'),\n",
       " Document(metadata={}, page_content='by FinCEN.\\nThe E-Filing submission guides for both PDF and web-based versions of the BOIR may\\nassist in submitting completed BOIRs to FinCEN.  To access these guides, go to\\nhttp s://boifiling.fincen.gov and select Help.\\nFinCEN also offers system-to-system BOIR transmission via secure Application Programming \\nInterface (API) for those, including third-party service providers, who are interested in \\nautomating the BOIR filing process.'),\n",
       " Document(metadata={}, page_content='Beneficial Ownership Information Reporting Filing Instructions \\nJanuary 2024 - Version 1.0\\n6\\nIII. How to Report Beneficial Ownership Information\\nReport beneficial ownership information to FinCEN by filing a true, correct, and complete BOIR.  \\nThis section includes specific recommendations and instructions to assist in reporting beneficial \\nownership information to FinCEN by filing a BOIR.\\na. Recommendations for Successful Filings\\n1.\\t Complete Filings\\nBOIRs must be complete before they can be filed with FinCEN.  FinCEN will not accept a BOIR if \\nany items marked with a red asterisk (*) are blank.  \\nNOTE: Filers must provide information in EVERY field marked with the * symbol in ALL \\nCIRCUMSTANCES.  Filers must also provide information in all fields not marked with the * symbol \\nthat are applicable to the filer.  For example, the “Middle Name” field is not marked with a * \\nsymbol; the filer MUST provide information in that field IF the relevant individual’s legal name \\nincludes a middle name.  Notwithstanding any other instruction, reporting companies must \\nprovide all information required pursuant to 31 CFR 1010.380(b).'),\n",
       " Document(metadata={}, page_content='symbol; the filer MUST provide information in that field IF the relevant individual’s legal name \\nincludes a middle name.  Notwithstanding any other instruction, reporting companies must \\nprovide all information required pursuant to 31 CFR 1010.380(b). \\nCompleting an initial BOIR: Complete an initial BOIR by providing all the following information:\\n• For the reporting company: \\n »\\nFull legal name; \\n »\\nAny trade name or “doing business as” name; \\n »\\nComplete current U.S. address; \\n »\\nJurisdiction of formation (including State1 or Tribal jurisdiction for a domestic \\nreporting company);   \\n »\\nFor a foreign reporting company only, State or Tribal jurisdiction of first registration; \\nand\\n »\\nIRS Taxpayer Identification Number (TIN), including an Employer Identification \\nNumber (EIN) (or, if a foreign reporting company has not been issued a TIN, the \\nreporting company’s foreign tax identification number and the name of the issuing \\njurisdiction).\\n1 State means any State of the United States, the District of Columbia, the Commonwealth of Puerto Rico, the Commonwealth of'),\n",
       " Document(metadata={}, page_content='reporting company’s foreign tax identification number and the name of the issuing \\njurisdiction).\\n1 State means any State of the United States, the District of Columbia, the Commonwealth of Puerto Rico, the Commonwealth of \\nthe Northern Mariana Islands, American Samoa, Guam, the United States Virgin Islands, and any other commonwealth, territo\\xad\\nry, or possession of the United States.'),\n",
       " Document(metadata={}, page_content='Beneficial Ownership Information Reporting Filing Instructions \\nJanuary 2024 - Version 1.0\\n7\\n• For each beneficial owner and each company applicant required to be reported:  \\n »\\nFull legal name;\\n »\\nDate of birth; \\n »\\nComplete current address; \\n »\\nUnique identifying number and issuing jurisdiction from one of the following non-\\nexpired documents: (1) U.S. passport; (2) identification document issued by a State, \\nlocal government, or Indian Tribe issued for the purpose of identifying the individual; \\n(3) State-issued driver’s license; or (4) if none of (1)–(3) are available, a foreign \\npassport; and \\n »\\nAn image of the document from which the unique identifying number was obtained.\\nReporting companies may provide a FinCEN identifier for a beneficial owner or company \\napplicant instead of the information listed above.\\nCompleting a corrected or an updated BOIR: If a previously submitted BOIR needs to be \\ncorrected or updated, complete a corrected or updated BOIR in its entirety, with the necessary \\ncorrections or updates made to the information.  Reporting companies must resubmit \\nunchanged information along with the corrected or updated information.'),\n",
       " Document(metadata={}, page_content='corrected or updated, complete a corrected or updated BOIR in its entirety, with the necessary \\ncorrections or updates made to the information.  Reporting companies must resubmit \\nunchanged information along with the corrected or updated information.\\nCompleting a newly exempt entity BOIR: If a BOIR was previously submitted for an entity that \\nhas become exempt, complete a newly exempt entity BOIR by reporting that the type of filing is \\n“newly exempt entity”, as well as the company name and TIN that the company provided in the \\nlast BOIR it filed.  No additional information is required.\\n2.\\t Names of Individuals\\nEnter the individual’s full last name, first name, and middle name as it is shown on a valid \\ngovernment identification document.\\nMultiple Last Names: If an individual’s name consists of a first name and multiple last names \\n(e.g., a father’s last name and amother’s last name), the multiple last name elements would be \\nentered in the last name field and the first name entered in the first name field.  For example, if an \\nindividual’s name is Juan (first name) Vega (first last name) Santiago (second last name), “VEGA'),\n",
       " Document(metadata={}, page_content='(e.g., a father’s last name and amother’s last name), the multiple last name elements would be \\nentered in the last name field and the first name entered in the first name field.  For example, if an \\nindividual’s name is Juan (first name) Vega (first last name) Santiago (second last name), “VEGA \\nSANTIAGO” would be entered in the last name field and “JUAN” would be entered in the first \\nname field.\\nIf an individual’s name typically is written with the family name first, that family name should be \\nentered in the last name field.'),\n",
       " Document(metadata={}, page_content='Beneficial Ownership Information Reporting Filing Instructions \\nJanuary 2024 - Version 1.0\\n8\\nNo Middle Name: If an individual’s full legal name does not include a middle name, the middle \\nname field should be left blank.  If an individual’s full legal name does include a middle name, the \\nfull middle name should be provided.  Entry of a middle initial only is not permitted. \\nMultiple First Names: If an individual has two first names and no middle name, both first names \\nshould be entered in the first name field (e.g., an individual who has “Mary Elizabeth” as a first \\nname, but no middle name, should enter “Mary Elizabeth” in the first name field).  The middle \\nname field should be left blank.\\nName Suffix: A name suffix may be abbreviated: Junior can be JR, Senior can be SR, the Third \\ncan be III, etc.\\nPunctuation, abbreviations, and special characters should be used in names only when they are \\npart of the individual’s legal name.  \\n3.\\t Addresses \\nAddresses provided on BOIRs must be in certain data formats to be accepted.\\nZIP Codes: ZIP Codes must be five or nine digits. ZIP Codes and foreign postal codes must be'),\n",
       " Document(metadata={}, page_content='part of the individual’s legal name.  \\n3.\\t Addresses \\nAddresses provided on BOIRs must be in certain data formats to be accepted.\\nZIP Codes: ZIP Codes must be five or nine digits. ZIP Codes and foreign postal codes must be \\nentered without formatting or special characters such as spaces or hyphens.  For example, the \\nZIP Code 12345-6120 should be entered as 123456120.  The foreign postal code HKW 702 should \\nbe entered HKW702. \\nU.S. Territories: When an address is in a U.S. Territory, the Territory code must be selected in the \\n“U.S. or U.S. Territory” field.  The BOIR will then automatically fill the State field with the relevant \\nTerritory code. \\nNon-U.S. Addresses: When an address is not in the United States, enter the street address, city, \\ncountry/jurisdiction, and foreign postal code.  If a foreign address contains information that does \\nnot exactly match the BOIR address fields, provide the foreign address information in the existing \\nBOIR address fields regardless of whether the field fully matches the address information.  All \\nforeign address information should be reflected somewhere in the BOIR address fields provided.'),\n",
       " Document(metadata={}, page_content='not exactly match the BOIR address fields, provide the foreign address information in the existing \\nBOIR address fields regardless of whether the field fully matches the address information.  All \\nforeign address information should be reflected somewhere in the BOIR address fields provided.\\nNo abbreviations are permitted in city names, which must be completely spelled out.  A U.S. city name \\nmust match the city name used by the U.S. Postal Service for the associated State and ZIP Code. \\n4.\\t Unique Identifying Numbers\\nEnter all unique identifying numbers as a single text string without formatting or special \\ncharacters such as hyphens or periods.  An identifying number in the format NNN-NN-NNNN \\nshould be entered as NNNNNNNNN.'),\n",
       " Document(metadata={}, page_content='Beneficial Ownership Information Reporting Filing Instructions \\nJanuary 2024 - Version 1.0\\n9\\n5.\\t Identifying Document Image Attachment\\nReporting companies must attach identifying document images to BOIRs.  As discussed above, \\nseveral types of identifying documents may be used, including a non-expired U.S. passport or \\nState-issued driver’s license.  Images of these identifying documents must be provided for all \\ncompany applicants identified in Part II (item 33) and all beneficial owners identified in Part III \\n(item 51) of the BOIR.  A complete, clear, and readable image of the page or side of the identifying \\ndocument containing the unique identifying number of the company applicant or beneficial \\nowner, and other identifying data must be provided.  An attachment to a BOIR cannot be larger \\nthan four (4) megabytes of data.  Multiple attachments may be added to a BOIR, but only one \\nimage attachment is permitted per company applicant or beneficial owner reported in a BOIR.\\n6.\\t Prohibited Words and Phrases\\nDo not use the following words or variations of these words in text fields of the BOIR:\\na. AKA\\nb. DBA\\nc. NMN\\nd. NONE\\ne. NOT APPLICABLE\\nf. OTHER\\ng. SAME\\nh. SAME AS ABOVE'),\n",
       " Document(metadata={}, page_content='image attachment is permitted per company applicant or beneficial owner reported in a BOIR.\\n6.\\t Prohibited Words and Phrases\\nDo not use the following words or variations of these words in text fields of the BOIR:\\na. AKA\\nb. DBA\\nc. NMN\\nd. NONE\\ne. NOT APPLICABLE\\nf. OTHER\\ng. SAME\\nh. SAME AS ABOVE\\ni. SEE ABOVE\\nj. T/A\\nk. UNKNOWN\\nl. VARIOUS\\nm. XX'),\n",
       " Document(metadata={}, page_content='Beneficial Ownership Information Reporting Filing Instructions \\nJanuary 2024 - Version 1.0\\n10\\nb. Item Instructions\\nThe item instructions show a line item, or field, of the BOIR followed by line-by-line instructions \\non how to fill out each item.  \\nNOTE: Filers must provide information in EVERY field marked with the * symbol in ALL \\nCIRCUMSTANCES.  Filers must also provide information in all fields not marked with the * symbol \\nthat are applicable to the filer.  For example, the “Middle Name” field is not marked with a * \\nsymbol; the filer MUST provide information in that field IF the relevant individual’s legal name \\nincludes a middle name.  Notwithstanding any other instruction, reporting companies must \\nprovide all information required pursuant to 31 CFR 1010.380(b). \\nBOIR Section: Filing Information\\nBOIR Item 1: \\n1. *Type of filing (select one checkbox, 1a-1d)\\na. Initial report\\nb. Correct prior report \\nc. Update prior report\\nd. Newly exempt entity \\nReporting company information associated with most recent report, if any: \\ne. Legal name\\nf. Tax identification type (select one from list)\\n• \\nEIN\\n• \\nSSN/ITIN\\n• \\nForeign\\ng. Tax identification number'),\n",
       " Document(metadata={}, page_content='a. Initial report\\nb. Correct prior report \\nc. Update prior report\\nd. Newly exempt entity \\nReporting company information associated with most recent report, if any: \\ne. Legal name\\nf. Tax identification type (select one from list)\\n• \\nEIN\\n• \\nSSN/ITIN\\n• \\nForeign\\ng. Tax identification number\\nh. Country/Jurisdiction (if foreign tax ID only) (select one from list) \\nInstructions for Item 1 – Type of filing:\\nCheck box 1a “Initial report” if this is the first BOIR filed for the reporting company. \\nCheck box 1b “Correct prior report” if the report corrects inaccurate information from a previously \\nfiled BOIR. \\nCheck box 1c “Update prior report” if the report updates a previously filed BOIR, for example, to \\ninclude one or more new beneficial owners.'),\n",
       " Document(metadata={}, page_content='Beneficial Ownership Information Reporting Filing Instructions \\nJanuary 2024 - Version 1.0\\n11\\nCheck box 1d “Newly exempt entity” if, after having filed a BOIR, the reporting company is now \\nexempt from BOI reporting requirements.  If this checkbox is selected, then filer must fill out fields \\n1e–1h (reporting company information associated with most recent report) and no other fields in \\nthe BOIR.\\nIf type of filing 1b, 1c, or 1d is selected, enter values for 1e “Legal name”, 1f “Tax identification \\ntype”, and 1g “Tax identification number” for the reporting company that match the most recently \\nfiled BOIR.  For example, if the reporting company previously filed an initial report and then an \\nupdated report, the reporting company information in the next updated report should match the \\nreporting company information provided on the most recently filed updated report rather than \\nthe initial report.  \\nFor 1f, select the tax identification type (i.e., a U.S. Employer Identification Number (EIN), a U.S. \\nSocial Security Number or Individual Taxpayer Identification Number (SSN-ITIN), or foreign'),\n",
       " Document(metadata={}, page_content='the initial report.  \\nFor 1f, select the tax identification type (i.e., a U.S. Employer Identification Number (EIN), a U.S. \\nSocial Security Number or Individual Taxpayer Identification Number (SSN-ITIN), or foreign \\ntaxpayer identification number (Foreign)) the reporting company reported in the most recently \\nfiled BOIR.  If tax identification type entered in 1f is “Foreign”, select the corresponding foreign \\ncountry/jurisdiction in 1h “Country/Jurisdiction (if foreign tax ID only)” associated with the foreign \\ntax identification number.\\nBOIR Item 2: \\n2. Date prepared (auto-filled when the form is finalized) \\nInstructions for Item 2 – Date prepared:\\nThis item is automatically populated with the current date.\\nBOIR Section: Part I Reporting Company Information \\nReporting company information is entered in fields 3 through 16 of the BOIR.  \\nBOIR Item 3: \\n3. Request to receive FinCEN Identifier (FinCEN ID) \\nInstructions for Item 3 – Request to receive FinCEN Identifier (FinCEN ID):\\nCheck this box to receive a unique FinCEN Identifier for the reporting company.  The FinCEN \\nIdentifier will be provided in the submission confirmation details provided to the filer after the'),\n",
       " Document(metadata={}, page_content='Instructions for Item 3 – Request to receive FinCEN Identifier (FinCEN ID):\\nCheck this box to receive a unique FinCEN Identifier for the reporting company.  The FinCEN \\nIdentifier will be provided in the submission confirmation details provided to the filer after the \\nBOIR is accepted.\\nBOIR Item 4:\\n4. Foreign pooled investment vehicle \\nInstructions for Item 4 – Foreign pooled investment vehicle:\\nCheck this box if the reporting company is a foreign pooled investment vehicle required to report \\ninformation pursuant to 31 CFR 1010.380(b)(2)(iii). \\nIf the reporting company is a foreign pooled investment vehicle, the company need only \\nreport one beneficial owner who exercises substantial control over the entity.  If more than one'),\n",
       " Document(metadata={}, page_content='Beneficial Ownership Information Reporting Filing Instructions \\nJanuary 2024 - Version 1.0\\n12\\nindividual exercise substantial control over the entity, the entity shall report information with \\nrespect to the individual who has the greatest authority over the strategic management of the \\nentity.  The report should not include any information about company applicants.  \\nBOIR Item 5: \\nFull legal name and alternate name(s):\\n5. * Reporting company legal name\\nInstructions for Item 5 – Reporting company legal name:\\nEnter the reporting company’s full legal name as recorded on the articles of incorporation or \\nother documents creating or registering the entity. \\nBOIR Item 6:\\n6. Alternate name (e.g., trade name, DBA) \\nInstructions for Item 6 – Alternate name:\\nEnter any of the reporting company’s trade names, “doing business as” or DBA names, or “trading \\nas” or T/A names.  If the reporting company has multiple alternate names, use the “+” or “-“ \\nbuttons in the BOIR to add additional alternate name fields (one field for each alternate name).  \\nDo not include the acronyms DBA or AKA with the alternate name.\\nBOIR Item 7:\\nForm of identification:'),\n",
       " Document(metadata={}, page_content='as” or T/A names.  If the reporting company has multiple alternate names, use the “+” or “-“ \\nbuttons in the BOIR to add additional alternate name fields (one field for each alternate name).  \\nDo not include the acronyms DBA or AKA with the alternate name.\\nBOIR Item 7:\\nForm of identification:\\n7. * Tax identification type (select one from list)\\n• \\nEIN\\n• \\nSSN/ITIN\\n• \\nForeign\\nInstructions for Item 7 – Tax identification type:\\nSelect “EIN” if the reporting company has a U.S. Employer Identification Number (EIN).  Select \\n“SSN-ITIN” if the reporting company utilizes a U.S. Social Security Number (SSN) or Individual \\nTaxpayer Identification Number (ITIN) as a tax identification number.  Select “Foreign” if the \\nreporting company has a tax identification number issued by a foreign jurisdiction and does not \\nhave a U.S. tax identification number.\\nBOIR Item 8:\\n8. * Tax Identification number\\nInstructions for Item 8 – Tax identification number:\\nEnter the tax identification number for the reporting company.  \\nBOIR Item 9:\\n9. Country/Jurisdiction (if foreign tax ID only) (select one from list)'),\n",
       " Document(metadata={}, page_content='Beneficial Ownership Information Reporting Filing Instructions \\nJanuary 2024 - Version 1.0\\n13\\nInstructions for Item 9 – Country/Jurisdiction:\\nIf the tax identification type in item 7 is “Foreign”, select the foreign country/jurisdiction that \\nissued the foreign tax identification number. \\nBOIR Item 10:\\nJurisdiction of formation or first registration:\\n10. * a. Country/Jurisdiction of formation (select from list)\\nDomestic reporting company: (complete if U.S. or U.S. Territory selected in 10a)\\nb. State of formation \\nc. Tribal jurisdiction of formation \\nd. Name of other Tribe \\nForeign reporting company: (required if foreign country selected in 10a)\\ne. State of first registration \\nf. Tribal jurisdiction of first registration \\ng. Name of other Tribe \\nInstructions for Item 10 – Jurisdiction of formation or first registration:\\nEnter the country/jurisdiction of formation in item 10a.  If United States is selected in 10a, then \\nitems 10b–10d should be completed, identifying the State or Tribal jurisdiction of formation.  If \\na U.S. Territory is selected in 10a, then item 10b is automatically populated with the relevant'),\n",
       " Document(metadata={}, page_content='Enter the country/jurisdiction of formation in item 10a.  If United States is selected in 10a, then \\nitems 10b–10d should be completed, identifying the State or Tribal jurisdiction of formation.  If \\na U.S. Territory is selected in 10a, then item 10b is automatically populated with the relevant \\nU.S. Territory, and items 10c and 10d are unavailable.  If Item 10a is a foreign country, then item \\n10e – 10f should be completed, identifying the State/U.S. Territory or Tribal jurisdiction in which \\nthe foreign reporting company first registered to do business in the United States.  If the Tribal \\njurisdiction of formation (10c) or Tribal jurisdiction of first registration (10f) is not listed in the \\ndrop-down, select “Other” and enter the name of the Tribe in 10d or 10g. \\nBOIR Items 11-15:\\nCurrent U.S. address:\\n11. * Address (number, street, and apt. or suite no.)\\n12. * City\\n13. * U.S. or U.S. Territory\\n14. * State (select from list, U.S. State or U.S. Territory only)\\n15. * ZIP Code\\nInstructions for Items 11–15 – Reporting company address:\\nEnter the reporting company’s complete current street address information, including city, State,'),\n",
       " Document(metadata={}, page_content='12. * City\\n13. * U.S. or U.S. Territory\\n14. * State (select from list, U.S. State or U.S. Territory only)\\n15. * ZIP Code\\nInstructions for Items 11–15 – Reporting company address:\\nEnter the reporting company’s complete current street address information, including city, State, \\nZIP Code, and select in item 13 whether the address is in the United States or a specific U.S.'),\n",
       " Document(metadata={}, page_content='Beneficial Ownership Information Reporting Filing Instructions \\nJanuary 2024 - Version 1.0\\n14\\nTerritory.  If the reporting company has a principal place of business in the United States or U.S. \\nTerritory, the street address should be that of the principal place of business.  Otherwise, the \\nstreet address should be the primary location in the United States or U.S. Territory where the \\nreporting company conducts business.  If a U.S. Territory is selected in item 13, then item 14 is \\nautomatically populated with the relevant U.S. Territory.\\nBOIR Item 16:\\n16. Existing reporting company \\nInstructions for Item 16 – Existing reporting company:\\nCheck this box if the reporting company was created or registered before January 1, 2024.  Do \\nnot check the box if the reporting company was created or registered on or after January 1, 2024.  \\nReporting companies that check this box are not required to report any company applicants; \\nproceed to Part III.\\nBOIR Item 17:\\n17. Reserved for future use.   \\nInstructions for Item 17:\\nItem 17 is reserved for future use on the BOIR.  It is not currently in use, and no information is \\ncurrently required for this item.'),\n",
       " Document(metadata={}, page_content='proceed to Part III.\\nBOIR Item 17:\\n17. Reserved for future use.   \\nInstructions for Item 17:\\nItem 17 is reserved for future use on the BOIR.  It is not currently in use, and no information is \\ncurrently required for this item.\\nBOIR Section: Part II Company Applicant Information\\nCompany applicant information is entered in fields 18 through 33 of the BOIR.  Company \\napplicants are individuals; no companies or legal entities may be reported as company \\napplicants.  Reporting companies may also provide FinCEN Identifiers for company applicants \\ninstead of this information.  See detailed description below.\\nUse the “+” or “-” keys at the top of this section to add or remove additional company applicants.  \\nNo more than two company applicants should be reported. \\nIf existing reporting company was checked in item 16, company applicant information is not \\nrequired; proceed to Part III.\\nBOIR Item 18:\\nCompany applicant FinCEN ID:\\n18. FinCEN ID \\nInstructions for Item 18 – FinCEN ID:\\nReporting companies may report the FinCEN ID for a company applicant instead of the \\ninformation in fields 19 through 33.  Enter the FinCEN ID as a single text string.  If a FinCEN ID'),\n",
       " Document(metadata={}, page_content='BOIR Item 18:\\nCompany applicant FinCEN ID:\\n18. FinCEN ID \\nInstructions for Item 18 – FinCEN ID:\\nReporting companies may report the FinCEN ID for a company applicant instead of the \\ninformation in fields 19 through 33.  Enter the FinCEN ID as a single text string.  If a FinCEN ID \\nfor the company applicant is not provided, information about the company applicant must be \\nprovided in fields 19 through 33.'),\n",
       " Document(metadata={}, page_content='Beneficial Ownership Information Reporting Filing Instructions \\nJanuary 2024 - Version 1.0\\n15\\nBOIR Item 19: \\nFull legal name and date of birth:\\n19. * Individual’s last name\\nInstructions for Item 19 – Last name:\\nEnter the company applicant’s legal last name. \\nBOIR Item 20: \\n20. * First name\\nInstructions for Item 20 – First name:\\nEnter the company applicant’s legal first name. \\nBOIR Item 21: \\n21. Middle name\\nInstructions for Item 21 – Middle name:\\nEnter the company applicant’s middle name if the company applicant’s legal name has a middle \\nname.  Leave this item blank if the company applicant does not have a middle name.\\nBOIR Item 22: \\n22. Suffix\\nInstructions for Item 22 – Suffix:\\nEnter the company applicant’s suffix such as JR, SR, III, etc., if the company applicant has a suffix \\nto their legal name.  Leave this item blank if the company applicant’s legal name does not include \\na suffix.\\nBOIR Item 23: \\n23. * Date of birth\\nInstructions for Item 23 – Date of birth:\\nEnter the company applicant’s date of birth using the format MM/DD/YYYY where MM = month, DD \\n= day, and YYYY = year (e.g., 01/25/1970).  The month, day, and year must be provided; no partial \\ndates are accepted.'),\n",
       " Document(metadata={}, page_content='a suffix.\\nBOIR Item 23: \\n23. * Date of birth\\nInstructions for Item 23 – Date of birth:\\nEnter the company applicant’s date of birth using the format MM/DD/YYYY where MM = month, DD \\n= day, and YYYY = year (e.g., 01/25/1970).  The month, day, and year must be provided; no partial \\ndates are accepted.\\nBOIR Item 24: \\nCurrent address:\\n24. * Address type (select checkbox 24a or 24b)\\na. Business address\\nb. Residential address'),\n",
       " Document(metadata={}, page_content='Beneficial Ownership Information Reporting Filing Instructions \\nJanuary 2024 - Version 1.0\\n16\\nInstructions for Item 24 – Address type:\\nIndicate address type as “Business address” or “Residential address” for the company applicant.  \\nFor a company applicant who forms or registers an entity in the course of their business, such \\nas paralegals, report the street address of such business.  In any other case, the individual’s \\nresidential street address must be reported.  \\nBOIR Items 25-29: \\n25. * Address (number, street, and apt. or suite no.)\\n26. * City\\n27. * Country/Jurisdiction \\n28. * State \\n29. * ZIP/Foreign postal code\\nInstructions for Items 25–29 – Company applicant address:\\nEnter the company applicant’s street address information, including the city, country or \\njurisdiction, State, and ZIP code or foreign postal code.  U.S. Territories are included in the drop-\\ndown menu for “Country/Jurisdiction.”  The “State” (item 28) will be automatically populated \\nwhen a U.S. Territory is selected in the “Country/Jurisdiction” (item 27).  Item 28 “State” is \\nrequired if the country selected in item 27 is the United States, Canada, or Mexico.  \\nBOIR Item 30:'),\n",
       " Document(metadata={}, page_content='down menu for “Country/Jurisdiction.”  The “State” (item 28) will be automatically populated \\nwhen a U.S. Territory is selected in the “Country/Jurisdiction” (item 27).  Item 28 “State” is \\nrequired if the country selected in item 27 is the United States, Canada, or Mexico.  \\nBOIR Item 30: \\nForm of identification and issuing jurisdiction:\\n30. * Identifying document type (select one from list, 30a-30d)\\na. State-issued driver’s license\\nb. State/local/Tribe-issued ID\\nc. U.S. passport\\nd. Foreign passport\\nInstructions for Item 30 – Identifying document type:\\nSelect the company applicant’s identifying document type from the list of acceptable documents: \\na non-expired State-issued driver’s license, a non-expired State/local/Tribe-issued identification \\ndocument issued for the purpose of identifying the individual, a non-expired U.S. passport, or, \\nonly if the company applicant does not have one of these identifying documents, a non-expired \\nforeign passport.'),\n",
       " Document(metadata={}, page_content='Beneficial Ownership Information Reporting Filing Instructions \\nJanuary 2024 - Version 1.0\\n17\\nBOIR Item 31: \\n31. * Identifying document number\\nInstructions for Item 31 – Identifying document number:\\nEnter the identifying document number from the company applicant’s identifying document.  \\nBOIR Item 32: \\n32. * Identifying document issuing jurisdiction \\na. Country/Jurisdiction \\nb. State \\nc. Local/Tribal \\nd. Other local/Tribal description \\nInstructions for Item 32 – Identifying document issuing jurisdiction:\\nEnter in item 32a the country/jurisdiction that issued the company applicant’s identifying \\ndocument.  If a U.S. Territory issued the identifying document, select the applicable U.S. Territory \\nin item 32a (the same U.S. Territory will then be automatically populated in item 32b “State” as \\na result).  Enter in 32b the State issuing the identifying document when country/jurisdiction is \\nUnited States, if applicable.  If a local or Tribal government issued the identifying document, \\nselect “United States” in item 32a and then select the applicable local or Tribal description in item'),\n",
       " Document(metadata={}, page_content='a result).  Enter in 32b the State issuing the identifying document when country/jurisdiction is \\nUnited States, if applicable.  If a local or Tribal government issued the identifying document, \\nselect “United States” in item 32a and then select the applicable local or Tribal description in item \\n32c.  If the name of the relevant local or Tribal jurisdiction is not included in the drop-down menu \\nin item 32c, select “Other” and enter the name of the local or Tribal jurisdiction in item 32d. \\nBOIR Item 33: \\n33. * Identifying document image \\nInstructions for Item 33 – Identifying document image:\\nUse the “Add Attachment” button on the BOIR to attach a clear, readable image of the page or \\nside of the identifying document referenced in item 31 containing the unique identifying number \\nand other identifying data.  Use the “Remove Attachment” button to remove the attached image \\nif necessary.  An attachment to a BOIR cannot be larger than four (4) megabytes of data and must \\nbe in one of the following formats: JPG/JPEG, PNG, or PDF.  Only one (1) attachment file may be \\nadded per company applicant.\\nBOIR Item 34:\\n34. Reserved for future use.\\nInstructions for Item 34:'),\n",
       " Document(metadata={}, page_content='if necessary.  An attachment to a BOIR cannot be larger than four (4) megabytes of data and must \\nbe in one of the following formats: JPG/JPEG, PNG, or PDF.  Only one (1) attachment file may be \\nadded per company applicant.\\nBOIR Item 34:\\n34. Reserved for future use.\\nInstructions for Item 34:\\nItem 34 is reserved for future use on the BOIR.  It is not currently in use, and no information is \\ncurrently required for this item.'),\n",
       " Document(metadata={}, page_content='Beneficial Ownership Information Reporting Filing Instructions \\nJanuary 2024 - Version 1.0\\n18\\nBOIR Section: Part III Beneficial Owner Information \\nBeneficial owner information is entered in fields 35 through 51 of the BOIR.  Reporting companies \\nmay also report a FinCEN Identifier for a beneficial owner instead of this information.  See \\ndetailed description below.\\nUse the “+” or “-” keys at the top of this section to add or remove additional beneficial owners.  \\nThere is no limit on the number of beneficial owners that may be reported. \\nBOIR Item 35:\\n35. Parent/Guardian information instead of minor child \\nInstructions for Item 35 – Parent/Guardian information instead of minor child:\\nIf the beneficial owner for the reporting company is a minor child, you may check this box and \\ncomplete Part III with information about a parent or legal guardian of the minor child.\\nBOIR Item 36: \\nBeneficial owner FinCEN ID:\\n36. FinCEN ID \\nInstructions for Item 36 – FinCEN ID:\\nReporting companies may provide a FinCEN Identifier for a beneficial owner instead of Items 37 \\nthrough 51.  Enter the FinCEN ID as a single text string.  If a FinCEN ID for the beneficial owner is'),\n",
       " Document(metadata={}, page_content='BOIR Item 36: \\nBeneficial owner FinCEN ID:\\n36. FinCEN ID \\nInstructions for Item 36 – FinCEN ID:\\nReporting companies may provide a FinCEN Identifier for a beneficial owner instead of Items 37 \\nthrough 51.  Enter the FinCEN ID as a single text string.  If a FinCEN ID for the beneficial owner is \\nnot provided, information about the beneficial owner must be provided in fields 37 through 51.\\nBOIR Item 37: \\nExempt entity:\\n37. Exempt entity \\nInstructions for Item 37 – Exempt entity:\\nCheck this box if the beneficial owner holds its ownership interest in the reporting company \\nexclusively through one or more exempt entities, and the name of that exempt entity or entities \\nare being reported in lieu of the beneficial owner’s information.  If checked, provide the legal \\nname of the exempt entity in field 38.\\nBOIR Item 38: \\nFull legal name and date of birth:\\n38. * Individual’s last name or entity’s legal name\\nInstructions for Item 38 – Individual’s last name or entity’s legal name:\\nEnter the beneficial owner’s legal last name or the exempt entity’s legal name.  An entity’s legal \\nname is the name on the articles of incorporation or other document that created or registered'),\n",
       " Document(metadata={}, page_content='Instructions for Item 38 – Individual’s last name or entity’s legal name:\\nEnter the beneficial owner’s legal last name or the exempt entity’s legal name.  An entity’s legal \\nname is the name on the articles of incorporation or other document that created or registered \\nthe entity.  Do not abbreviate names unless an abbreviation is part of the legal name.'),\n",
       " Document(metadata={}, page_content='Beneficial Ownership Information Reporting Filing Instructions \\nJanuary 2024 - Version 1.0\\n19\\nBOIR Item 39: \\n39. * First name\\nInstructions for Item 39 – First name:\\nEnter the beneficial owner’s legal first name. \\nBOIR Item 40: \\n40. Middle name\\nInstructions for Item 40 – Middle name:\\nEnter the beneficial owner’s middle name if the beneficial owner’s legal name includes a middle \\nname.  Leave this item blank if the beneficial owner does not have a middle name.\\nBOIR Item 41: \\n41. Suffix\\nInstructions for Item 41 – Suffix:\\nEnter the beneficial owner’s suffix such as JR, SR, III, etc., if the beneficial owner has a suffix to their \\nlegal name.  Leave this item blank if the beneficial owner’s legal name does not include a suffix.\\nBOIR Item 42: \\n42. * Date of birth\\nInstructions for Item 42 – Date of birth:\\nEnter the beneficial owner’s date of birth, using the format MM/DD/YYYY where MM = month, DD \\n= day, and YYYY = year (e.g., 01/25/1970).  The month, day, and year must be provided; no partial \\ndates will be accepted.\\nBOIR Items 43–47: \\nResidential address:\\n43. * Address (number, street, and apt. or suite no.)\\n44. * City\\n45. * Country/Jurisdiction \\n46. * State'),\n",
       " Document(metadata={}, page_content='= day, and YYYY = year (e.g., 01/25/1970).  The month, day, and year must be provided; no partial \\ndates will be accepted.\\nBOIR Items 43–47: \\nResidential address:\\n43. * Address (number, street, and apt. or suite no.)\\n44. * City\\n45. * Country/Jurisdiction \\n46. * State \\n47. * ZIP/Foreign postal code\\nInstructions for Items 43–47 – Beneficial owner address:\\nEnter the beneficial owner’s residential street address information, including the city, country or \\njurisdiction, State, and ZIP code or foreign postal code.  U.S. Territories are included in the drop-\\ndown menu for “Country/Jurisdiction.”  The “State” (item 46) will be automatically populated \\nwhen a U.S. Territory is selected in the “Country/ Jurisdiction” (item 45).  Item 46 “State” is \\nrequired if the country selected in item 45 is the United States, Canada, or Mexico.'),\n",
       " Document(metadata={}, page_content='Beneficial Ownership Information Reporting Filing Instructions \\nJanuary 2024 - Version 1.0\\n20\\nBOIR Item 48: \\nForm of identification and issuing jurisdiction:\\n48. * Identifying document type (select one from list 48a-48d)\\na. State-issued driver’s license\\nb. State/local/Tribe-issued ID\\nc. U.S. passport\\nd. Foreign passport\\nInstructions for Item 48 – Identifying document type:\\nSelect the beneficial owner’s non-expired identifying document type from the list of acceptable \\nidentification documents: a State-issued driver’s license, a State/local/Tribe-issued identification \\ndocument issued for the purpose of identifying the individual, a U.S. passport, or, only if the \\nbeneficial owner does not have one of these three types of identifying documents, a foreign passport. \\nBOIR Item 49: \\n49. * Identifying document number\\nInstructions for Item 49 – Identifying document number:\\nEnter the identifying document number from the beneficial owner’s identifying document.  \\nBOIR Item 50: \\n50. * Identifying document issuing jurisdiction \\na. Country/Jurisdiction \\nb. State \\nc. Local/Tribal \\nd. Other local/Tribal description \\nInstructions for Item 50 – Identifying document issuing jurisdiction:'),\n",
       " Document(metadata={}, page_content='BOIR Item 50: \\n50. * Identifying document issuing jurisdiction \\na. Country/Jurisdiction \\nb. State \\nc. Local/Tribal \\nd. Other local/Tribal description \\nInstructions for Item 50 – Identifying document issuing jurisdiction:\\nEnter in item 50a the country/jurisdiction that issued the beneficial owner’s identifying \\ndocument.  If a U.S. Territory issued the identifying document, select the applicable U.S. Territory \\nin item 50a (the same U.S. Territory will then be automatically populated in item 50b “State” as \\na result).  Enter in 50b the State that issued the identifying document when country/jurisdiction \\nis United States, if applicable.  If a local or Tribal government issued the identifying document, \\nselect “United States” in 50a and then select the applicable local or Tribal description in item 50c.  \\nIf the name of the relevant local or Tribal jurisdiction is not included in the drop-down menu in \\nitem 50c, select “Other” and enter the name of the local or Tribal jurisdiction in item 50d.'),\n",
       " Document(metadata={}, page_content='Beneficial Ownership Information Reporting Filing Instructions \\nJanuary 2024 - Version 1.0\\n21\\nBOIR Item 51: \\n51. * Identifying document image \\nInstructions for Item 51 – Identifying document image:\\nUse the “Add Attachment” button on the BOIR to attach a clear, readable image of the page or \\nside of the identifying document referenced in item 49 containing the unique identifying number \\nand other identifying data.  Use the “Remove Attachment” button to remove the attached image \\nif necessary.  An attachment to a BOIR cannot be larger than four (4) megabytes of data and must \\nbe in one of the following formats: JPG/JPEG, PNG, or PDF. Only one (1) attachment file may be \\nadded per beneficial owner.')]"
      ]
     },
     "execution_count": 14,
     "metadata": {},
     "output_type": "execute_result"
    }
   ],
   "execution_count": 14
  },
  {
   "metadata": {},
   "cell_type": "markdown",
   "source": "### Insertion dans la BD des vecteurs",
   "id": "2423cd9df6c63d0a"
  },
  {
   "metadata": {
    "ExecuteTime": {
     "end_time": "2025-03-13T18:08:35.619370Z",
     "start_time": "2025-03-13T18:08:34.641907Z"
    }
   },
   "cell_type": "code",
   "source": [
    "import ollama\n",
    "\n",
    "ollama.pull(\"nomic-embed-text\")"
   ],
   "id": "6094679e81e62080",
   "outputs": [
    {
     "data": {
      "text/plain": [
       "ProgressResponse(status='success', completed=None, total=None, digest=None)"
      ]
     },
     "execution_count": 15,
     "metadata": {},
     "output_type": "execute_result"
    }
   ],
   "execution_count": 15
  },
  {
   "metadata": {
    "ExecuteTime": {
     "end_time": "2025-03-13T18:10:24.722353Z",
     "start_time": "2025-03-13T18:08:35.625260Z"
    }
   },
   "cell_type": "code",
   "source": [
    "from langchain.vectorstores import FAISS\n",
    "from langchain.embeddings import OllamaEmbeddings\n",
    "\n",
    "# Charger le modèle d'embedding\n",
    "embedding_model = OllamaEmbeddings(model=\"nomic-embed-text\")\n",
    "\n",
    "# Convertir les documents en vecteurs et les stocker dans FAISS\n",
    "vector_db = FAISS.from_documents(chunks, embedding_model)\n",
    "print(\"Ajout terminé dans la base FAISS.\")\n"
   ],
   "id": "bee77fb74d039e6b",
   "outputs": [
    {
     "name": "stderr",
     "output_type": "stream",
     "text": [
      "C:\\Users\\dell\\AppData\\Local\\Temp\\ipykernel_28884\\517042764.py:5: LangChainDeprecationWarning: The class `OllamaEmbeddings` was deprecated in LangChain 0.3.1 and will be removed in 1.0.0. An updated version of the class exists in the :class:`~langchain-ollama package and should be used instead. To use it run `pip install -U :class:`~langchain-ollama` and import as `from :class:`~langchain_ollama import OllamaEmbeddings``.\n",
      "  embedding_model = OllamaEmbeddings(model=\"nomic-embed-text\")\n"
     ]
    },
    {
     "name": "stdout",
     "output_type": "stream",
     "text": [
      "Ajout terminé dans la base FAISS.\n"
     ]
    }
   ],
   "execution_count": 16
  },
  {
   "metadata": {},
   "cell_type": "markdown",
   "source": "### Phase du retrieval",
   "id": "5aa48a24fc1ace05"
  },
  {
   "metadata": {
    "ExecuteTime": {
     "end_time": "2025-03-13T18:10:29.065601Z",
     "start_time": "2025-03-13T18:10:24.733540Z"
    }
   },
   "cell_type": "code",
   "source": [
    "## === Retrieval ===\n",
    "from langchain.prompts import ChatPromptTemplate, PromptTemplate\n",
    "from langchain_core.output_parsers import StrOutputParser\n",
    "\n",
    "from langchain_ollama import ChatOllama\n",
    "\n",
    "from langchain_core.runnables import RunnablePassthrough\n",
    "from langchain.retrievers.multi_query import MultiQueryRetriever\n",
    "\n",
    "# set up our model to use\n",
    "llm = ChatOllama(model=model)\n",
    "\n",
    "# a simple technique to generate multiple questions from a single question and then retrieve documents\n",
    "# based on those questions, getting the best of both worlds.\n",
    "QUERY_PROMPT = PromptTemplate(\n",
    "    input_variables=[\"question\"],\n",
    "    template=\"\"\"You are an AI language model assistant. Your task is to generate five\n",
    "    different versions of the given user question to retrieve relevant documents from\n",
    "    a vector database. By generating multiple perspectives on the user question, your\n",
    "    goal is to help the user overcome some of the limitations of the distance-based\n",
    "    similarity search. Provide these alternative questions separated by newlines.\n",
    "    Original question: {question}\"\"\",\n",
    ")\n",
    "\n",
    "retriever = MultiQueryRetriever.from_llm(\n",
    "    vector_db.as_retriever(search_type=\"similarity\", search_kwargs={\"k\": 5}),\n",
    "    llm,\n",
    "    prompt=QUERY_PROMPT\n",
    ")\n"
   ],
   "id": "d5e6dd6a5ef7cffe",
   "outputs": [],
   "execution_count": 17
  },
  {
   "metadata": {},
   "cell_type": "markdown",
   "source": "### Generation de la réponse",
   "id": "4fe806b2cdcabe77"
  },
  {
   "metadata": {
    "ExecuteTime": {
     "end_time": "2025-03-13T18:17:37.257072Z",
     "start_time": "2025-03-13T18:10:29.072211Z"
    }
   },
   "cell_type": "code",
   "source": [
    "# RAG prompt\n",
    "template = \"\"\"Answer the question based ONLY on the following context:\n",
    "{context}\n",
    "Question: {question}\n",
    "\"\"\"\n",
    "\n",
    "prompt = ChatPromptTemplate.from_template(template)\n",
    "\n",
    "\n",
    "chain = (\n",
    "    {\"context\": retriever, \"question\": RunnablePassthrough()}\n",
    "    | prompt\n",
    "    | llm\n",
    "    | StrOutputParser()\n",
    ")\n",
    "\n",
    "\n",
    "# res = chain.invoke(input=(\"what is the document about?\",))\n",
    "# res = chain.invoke(\n",
    "#     input=(\"what are the main points as a business owner I should be aware of?\",)\n",
    "# )\n",
    "res = chain.invoke(input=(\"how to report BOI?\",))\n",
    "\n",
    "print(res)"
   ],
   "id": "8ef66e9ea0340a13",
   "outputs": [
    {
     "name": "stdout",
     "output_type": "stream",
     "text": [
      "According to the provided context, here's how to report beneficial ownership information (BOI):\n",
      "\n",
      "1. **Who must report**: Certain types of U.S. and foreign entities are required to report beneficial ownership information to FinCEN.\n",
      "2. **What to report**: Beneficial ownership information includes information about the entity, its beneficial owners, and in certain cases its company applicants.\n",
      "3. **When to report**: Beneficial ownership information is reported to FinCEN through Beneficial Ownership Information Reports (BOIRs).\n",
      "\n",
      "To file a BOIR, you can:\n",
      "\n",
      "1. Use the E-Filing submission guides for both PDF and web-based versions of the BOIR.\n",
      "2. Access these guides by going to [http://boifiling.fincen.gov](http://boifiling.fincen.gov) and selecting Help.\n",
      "\n",
      "Alternatively, FinCEN also offers system-to-system BOIR transmission via secure Application Programming Interface (API) for those who want to automate the filing process.\n"
     ]
    }
   ],
   "execution_count": 18
  }
 ],
 "metadata": {
  "kernelspec": {
   "display_name": "Python 3",
   "language": "python",
   "name": "python3"
  },
  "language_info": {
   "codemirror_mode": {
    "name": "ipython",
    "version": 2
   },
   "file_extension": ".py",
   "mimetype": "text/x-python",
   "name": "python",
   "nbconvert_exporter": "python",
   "pygments_lexer": "ipython2",
   "version": "2.7.6"
  }
 },
 "nbformat": 4,
 "nbformat_minor": 5
}
