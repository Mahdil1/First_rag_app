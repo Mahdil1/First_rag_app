{
 "cells": [
  {
   "metadata": {
    "ExecuteTime": {
     "end_time": "2025-03-13T18:08:34.199720Z",
     "start_time": "2025-03-13T18:08:34.191751Z"
    }
   },
   "cell_type": "code",
   "source": [
    "doc_path = \"./data/BOI.pdf\"\n",
    "model = \"llama3\""
   ],
   "id": "2ca2bbecc772fb22",
   "outputs": [],
   "execution_count": 8
  },
  {
   "metadata": {
    "ExecuteTime": {
     "end_time": "2025-03-13T18:08:34.234361Z",
     "start_time": "2025-03-13T18:08:34.226480Z"
    }
   },
   "cell_type": "code",
   "source": [
    "from langchain_ollama import OllamaEmbeddings\n",
    "from langchain_text_splitters import RecursiveCharacterTextSplitter\n",
    "from langchain_community.vectorstores import Chroma\n",
    "from langchain.schema import Document\n",
    "import fitz  # PyMuPDF"
   ],
   "id": "ceab6c004c212bd9",
   "outputs": [],
   "execution_count": 9
  },
  {
   "metadata": {},
   "cell_type": "markdown",
   "source": "### Extraction du PDF et conversion en documents langchain",
   "id": "d4378424b67a20ee"
  },
  {
   "metadata": {
    "ExecuteTime": {
     "end_time": "2025-03-13T18:08:34.521077Z",
     "start_time": "2025-03-13T18:08:34.311817Z"
    }
   },
   "cell_type": "code",
   "source": [
    "if doc_path:\n",
    "    try:\n",
    "        doc = fitz.open(doc_path)\n",
    "        print(\"PDF chargé avec succès.\")\n",
    "\n",
    "        if len(doc) > 0:\n",
    "            # Extraction du texte de toutes les pages\n",
    "            content = \"\\n\".join([page.get_text() for page in doc])\n",
    "            print(\"Aperçu du contenu (100 premiers caractères) :\")\n",
    "            print(content[:100])\n",
    "\n",
    "            # Vérifier et transformer en Document LangChain\n",
    "            if isinstance(content, str) and content.strip():\n",
    "                documents = [Document(page_content=content)]\n",
    "                print(\"Contenu converti en document LangChain.\")\n",
    "\n",
    "            else:\n",
    "                print(\"Le fichier PDF est vide ou ne contient pas de texte lisible.\")\n",
    "\n",
    "        else:\n",
    "            print(\"Le fichier PDF est vide.\")\n",
    "\n",
    "    except Exception as e:\n",
    "        print(f\"Erreur lors du chargement du PDF : {e}\")\n",
    "else:\n",
    "    print(\"Veuillez fournir un chemin de fichier PDF valide.\")"
   ],
   "id": "d21604e0f6fa66a1",
   "outputs": [
    {
     "name": "stdout",
     "output_type": "stream",
     "text": [
      "PDF chargé avec succès.\n",
      "Aperçu du contenu (100 premiers caractères) :\n",
      "Beneficial Ownership Information Report\n",
      "Filing Instructions\n",
      "Financial Crimes Enforcement Network\n",
      "U.S\n",
      "Contenu converti en document LangChain.\n"
     ]
    }
   ],
   "execution_count": 10
  },
  {
   "metadata": {},
   "cell_type": "markdown",
   "source": "### Découpage en chunks",
   "id": "9c0396bb4c680aef"
  },
  {
   "metadata": {
    "ExecuteTime": {
     "end_time": "2025-03-13T18:08:34.559469Z",
     "start_time": "2025-03-13T18:08:34.528704Z"
    }
   },
   "cell_type": "code",
   "source": [
    "text_splitter = RecursiveCharacterTextSplitter(chunk_size=1200, chunk_overlap=300)\n",
    "chunks = text_splitter.split_documents(documents)\n",
    "print(f\"Découpage terminé ({len(chunks)} chunks générés).\")\n",
    "print(\"🔹 Premier chunk :\", chunks[0])"
   ],
   "id": "ce5d2f6846606a0c",
   "outputs": [
    {
     "name": "stdout",
     "output_type": "stream",
     "text": [
      "Découpage terminé (48 chunks générés).\n",
      "🔹 Premier chunk : page_content='Beneficial Ownership Information Report\n",
      "Filing Instructions\n",
      "Financial Crimes Enforcement Network\n",
      "U.S. Department of the Treasury\n",
      "Version 1.0 January 2024'\n"
     ]
    }
   ],
   "execution_count": 11
  },
  {
   "metadata": {
    "ExecuteTime": {
     "end_time": "2025-03-13T18:08:34.608732Z",
     "start_time": "2025-03-13T18:08:34.597669Z"
    }
   },
   "cell_type": "code",
   "source": "len(chunks)",
   "id": "c88c5d623cb52816",
   "outputs": [
    {
     "data": {
      "text/plain": [
       "48"
      ]
     },
     "execution_count": 13,
     "metadata": {},
     "output_type": "execute_result"
    }
   ],
   "execution_count": 13
  },
  {
   "metadata": {
    "ExecuteTime": {
     "end_time": "2025-03-13T22:40:04.678963Z",
     "start_time": "2025-03-13T22:40:04.630226Z"
    }
   },
   "cell_type": "code",
   "source": "chunks[0]",
   "id": "5efca070e393deb1",
   "outputs": [
    {
     "data": {
      "text/plain": [
       "Document(metadata={}, page_content='Beneficial Ownership Information Report\\nFiling Instructions\\nFinancial Crimes Enforcement Network\\nU.S. Department of the Treasury\\nVersion 1.0 January 2024')"
      ]
     },
     "execution_count": 19,
     "metadata": {},
     "output_type": "execute_result"
    }
   ],
   "execution_count": 19
  },
  {
   "metadata": {},
   "cell_type": "markdown",
   "source": "### Insertion dans la BD des vecteurs",
   "id": "2423cd9df6c63d0a"
  },
  {
   "metadata": {
    "ExecuteTime": {
     "end_time": "2025-03-13T18:08:35.619370Z",
     "start_time": "2025-03-13T18:08:34.641907Z"
    }
   },
   "cell_type": "code",
   "source": [
    "import ollama\n",
    "\n",
    "ollama.pull(\"nomic-embed-text\")"
   ],
   "id": "6094679e81e62080",
   "outputs": [
    {
     "data": {
      "text/plain": [
       "ProgressResponse(status='success', completed=None, total=None, digest=None)"
      ]
     },
     "execution_count": 15,
     "metadata": {},
     "output_type": "execute_result"
    }
   ],
   "execution_count": 15
  },
  {
   "metadata": {
    "ExecuteTime": {
     "end_time": "2025-03-13T18:10:24.722353Z",
     "start_time": "2025-03-13T18:08:35.625260Z"
    }
   },
   "cell_type": "code",
   "source": [
    "from langchain.vectorstores import FAISS\n",
    "from langchain.embeddings import OllamaEmbeddings\n",
    "\n",
    "# Charger le modèle d'embedding\n",
    "embedding_model = OllamaEmbeddings(model=\"nomic-embed-text\")\n",
    "\n",
    "# Convertir les documents en vecteurs et les stocker dans FAISS\n",
    "vector_db = FAISS.from_documents(chunks, embedding_model)\n",
    "print(\"Ajout terminé dans la base FAISS.\")\n"
   ],
   "id": "bee77fb74d039e6b",
   "outputs": [
    {
     "name": "stderr",
     "output_type": "stream",
     "text": [
      "C:\\Users\\dell\\AppData\\Local\\Temp\\ipykernel_28884\\517042764.py:5: LangChainDeprecationWarning: The class `OllamaEmbeddings` was deprecated in LangChain 0.3.1 and will be removed in 1.0.0. An updated version of the class exists in the :class:`~langchain-ollama package and should be used instead. To use it run `pip install -U :class:`~langchain-ollama` and import as `from :class:`~langchain_ollama import OllamaEmbeddings``.\n",
      "  embedding_model = OllamaEmbeddings(model=\"nomic-embed-text\")\n"
     ]
    },
    {
     "name": "stdout",
     "output_type": "stream",
     "text": [
      "Ajout terminé dans la base FAISS.\n"
     ]
    }
   ],
   "execution_count": 16
  },
  {
   "metadata": {},
   "cell_type": "markdown",
   "source": "### Phase du retrieval",
   "id": "5aa48a24fc1ace05"
  },
  {
   "metadata": {
    "ExecuteTime": {
     "end_time": "2025-03-13T18:10:29.065601Z",
     "start_time": "2025-03-13T18:10:24.733540Z"
    }
   },
   "cell_type": "code",
   "source": [
    "## === Retrieval ===\n",
    "from langchain.prompts import ChatPromptTemplate, PromptTemplate\n",
    "from langchain_core.output_parsers import StrOutputParser\n",
    "\n",
    "from langchain_ollama import ChatOllama\n",
    "\n",
    "from langchain_core.runnables import RunnablePassthrough\n",
    "from langchain.retrievers.multi_query import MultiQueryRetriever\n",
    "\n",
    "# set up our model to use\n",
    "llm = ChatOllama(model=model)\n",
    "\n",
    "# a simple technique to generate multiple questions from a single question and then retrieve documents\n",
    "# based on those questions, getting the best of both worlds.\n",
    "QUERY_PROMPT = PromptTemplate(\n",
    "    input_variables=[\"question\"],\n",
    "    template=\"\"\"You are an AI language model assistant. Your task is to generate five\n",
    "    different versions of the given user question to retrieve relevant documents from\n",
    "    a vector database. By generating multiple perspectives on the user question, your\n",
    "    goal is to help the user overcome some of the limitations of the distance-based\n",
    "    similarity search. Provide these alternative questions separated by newlines.\n",
    "    Original question: {question}\"\"\",\n",
    ")\n",
    "\n",
    "retriever = MultiQueryRetriever.from_llm(\n",
    "    vector_db.as_retriever(search_type=\"similarity\", search_kwargs={\"k\": 5}),\n",
    "    llm,\n",
    "    prompt=QUERY_PROMPT\n",
    ")\n"
   ],
   "id": "d5e6dd6a5ef7cffe",
   "outputs": [],
   "execution_count": 17
  },
  {
   "metadata": {},
   "cell_type": "markdown",
   "source": "### Generation de la réponse",
   "id": "4fe806b2cdcabe77"
  },
  {
   "metadata": {
    "ExecuteTime": {
     "end_time": "2025-03-13T18:17:37.257072Z",
     "start_time": "2025-03-13T18:10:29.072211Z"
    }
   },
   "cell_type": "code",
   "source": [
    "# RAG prompt\n",
    "template = \"\"\"Answer the question based ONLY on the following context:\n",
    "{context}\n",
    "Question: {question}\n",
    "\"\"\"\n",
    "\n",
    "prompt = ChatPromptTemplate.from_template(template)\n",
    "\n",
    "\n",
    "chain = (\n",
    "    {\"context\": retriever, \"question\": RunnablePassthrough()}\n",
    "    | prompt\n",
    "    | llm\n",
    "    | StrOutputParser()\n",
    ")\n",
    "\n",
    "\n",
    "# res = chain.invoke(input=(\"what is the document about?\",))\n",
    "# res = chain.invoke(\n",
    "#     input=(\"what are the main points as a business owner I should be aware of?\",)\n",
    "# )\n",
    "res = chain.invoke(input=(\"how to report BOI?\",))\n",
    "\n",
    "print(res)"
   ],
   "id": "8ef66e9ea0340a13",
   "outputs": [
    {
     "name": "stdout",
     "output_type": "stream",
     "text": [
      "According to the provided context, here's how to report beneficial ownership information (BOI):\n",
      "\n",
      "1. **Who must report**: Certain types of U.S. and foreign entities are required to report beneficial ownership information to FinCEN.\n",
      "2. **What to report**: Beneficial ownership information includes information about the entity, its beneficial owners, and in certain cases its company applicants.\n",
      "3. **When to report**: Beneficial ownership information is reported to FinCEN through Beneficial Ownership Information Reports (BOIRs).\n",
      "\n",
      "To file a BOIR, you can:\n",
      "\n",
      "1. Use the E-Filing submission guides for both PDF and web-based versions of the BOIR.\n",
      "2. Access these guides by going to [http://boifiling.fincen.gov](http://boifiling.fincen.gov) and selecting Help.\n",
      "\n",
      "Alternatively, FinCEN also offers system-to-system BOIR transmission via secure Application Programming Interface (API) for those who want to automate the filing process.\n"
     ]
    }
   ],
   "execution_count": 18
  }
 ],
 "metadata": {
  "kernelspec": {
   "display_name": "Python 3",
   "language": "python",
   "name": "python3"
  },
  "language_info": {
   "codemirror_mode": {
    "name": "ipython",
    "version": 2
   },
   "file_extension": ".py",
   "mimetype": "text/x-python",
   "name": "python",
   "nbconvert_exporter": "python",
   "pygments_lexer": "ipython2",
   "version": "2.7.6"
  }
 },
 "nbformat": 4,
 "nbformat_minor": 5
}
